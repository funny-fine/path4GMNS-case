{
 "cells": [
  {
   "cell_type": "markdown",
   "id": "3d833494",
   "metadata": {},
   "source": [
    "# Tutorial 7: node_link_demand_multimodal\n",
    "This dataset illustrates a multimodal network, and the full text will cover these topics:\n",
    "* Network data: reading and presentation of core data files\n",
    "* The main programme: running the DTA module of path4gmns\n",
    "* Results: reading and analysing the output\n",
    "\n",
    "With this dataset and the tutorial, you can know how to define different modes in the road network and how they affect the assignment results."
   ]
  },
  {
   "cell_type": "markdown",
   "id": "a00b2778",
   "metadata": {},
   "source": [
    "Make sure you have the following libraries installed:"
   ]
  },
  {
   "cell_type": "code",
   "execution_count": 1,
   "id": "020e3855",
   "metadata": {},
   "outputs": [
    {
     "name": "stdout",
     "output_type": "stream",
     "text": [
      "path4gmns, version 0.9.7\n"
     ]
    }
   ],
   "source": [
    "import pandas as pd\n",
    "import path4gmns as pg\n",
    "import networkx as nx\n",
    "import matplotlib.pyplot as plt\n",
    "import numpy as np\n",
    "import os"
   ]
  },
  {
   "cell_type": "markdown",
   "id": "f275affa",
   "metadata": {},
   "source": [
    "## 1.Network data\n",
    "Before proceeding with the path4GMNS-DTA, you can use pandas to read the input data, to see its format or to make changes as your actual requirements.<br>\n",
    "The following code reads the key input data as a demonstration."
   ]
  },
  {
   "cell_type": "code",
   "execution_count": 2,
   "id": "91bbaa6b",
   "metadata": {},
   "outputs": [],
   "source": [
    "mini_path = \"./07_node_link_demand_multimodal/minimum_input/\"\n",
    "node = pd.read_csv(mini_path+'node.csv') \n",
    "link = pd.read_csv(mini_path+'link.csv')  \n",
    "demand = pd.read_csv(mini_path+'demand.csv')  #OD-demand\n",
    "mode_type = pd.read_csv(mini_path+'mode_type.csv')"
   ]
  },
  {
   "cell_type": "code",
   "execution_count": 3,
   "id": "3f53d3e3",
   "metadata": {},
   "outputs": [
    {
     "data": {
      "text/html": [
       "<div>\n",
       "<style scoped>\n",
       "    .dataframe tbody tr th:only-of-type {\n",
       "        vertical-align: middle;\n",
       "    }\n",
       "\n",
       "    .dataframe tbody tr th {\n",
       "        vertical-align: top;\n",
       "    }\n",
       "\n",
       "    .dataframe thead th {\n",
       "        text-align: right;\n",
       "    }\n",
       "</style>\n",
       "<table border=\"1\" class=\"dataframe\">\n",
       "  <thead>\n",
       "    <tr style=\"text-align: right;\">\n",
       "      <th></th>\n",
       "      <th>node_id</th>\n",
       "      <th>x_coord</th>\n",
       "      <th>y_coord</th>\n",
       "      <th>zone_id</th>\n",
       "    </tr>\n",
       "  </thead>\n",
       "  <tbody>\n",
       "    <tr>\n",
       "      <th>0</th>\n",
       "      <td>1</td>\n",
       "      <td>0.0</td>\n",
       "      <td>-0.1</td>\n",
       "      <td>1</td>\n",
       "    </tr>\n",
       "    <tr>\n",
       "      <th>1</th>\n",
       "      <td>2</td>\n",
       "      <td>40.3</td>\n",
       "      <td>0.1</td>\n",
       "      <td>2</td>\n",
       "    </tr>\n",
       "    <tr>\n",
       "      <th>2</th>\n",
       "      <td>3</td>\n",
       "      <td>19.8</td>\n",
       "      <td>14.8</td>\n",
       "      <td>0</td>\n",
       "    </tr>\n",
       "    <tr>\n",
       "      <th>3</th>\n",
       "      <td>4</td>\n",
       "      <td>19.7</td>\n",
       "      <td>-9.7</td>\n",
       "      <td>0</td>\n",
       "    </tr>\n",
       "  </tbody>\n",
       "</table>\n",
       "</div>"
      ],
      "text/plain": [
       "   node_id  x_coord  y_coord  zone_id\n",
       "0        1      0.0     -0.1        1\n",
       "1        2     40.3      0.1        2\n",
       "2        3     19.8     14.8        0\n",
       "3        4     19.7     -9.7        0"
      ]
     },
     "execution_count": 3,
     "metadata": {},
     "output_type": "execute_result"
    }
   ],
   "source": [
    "node"
   ]
  },
  {
   "cell_type": "code",
   "execution_count": 4,
   "id": "89d9fa54",
   "metadata": {},
   "outputs": [
    {
     "data": {
      "text/html": [
       "<div>\n",
       "<style scoped>\n",
       "    .dataframe tbody tr th:only-of-type {\n",
       "        vertical-align: middle;\n",
       "    }\n",
       "\n",
       "    .dataframe tbody tr th {\n",
       "        vertical-align: top;\n",
       "    }\n",
       "\n",
       "    .dataframe thead th {\n",
       "        text-align: right;\n",
       "    }\n",
       "</style>\n",
       "<table border=\"1\" class=\"dataframe\">\n",
       "  <thead>\n",
       "    <tr style=\"text-align: right;\">\n",
       "      <th></th>\n",
       "      <th>link_id</th>\n",
       "      <th>from_node_id</th>\n",
       "      <th>to_node_id</th>\n",
       "      <th>link_type</th>\n",
       "      <th>dir_flag</th>\n",
       "      <th>length</th>\n",
       "      <th>lanes</th>\n",
       "      <th>free_speed</th>\n",
       "      <th>capacity</th>\n",
       "    </tr>\n",
       "  </thead>\n",
       "  <tbody>\n",
       "    <tr>\n",
       "      <th>0</th>\n",
       "      <td>3</td>\n",
       "      <td>1</td>\n",
       "      <td>4</td>\n",
       "      <td>3</td>\n",
       "      <td>1</td>\n",
       "      <td>15000</td>\n",
       "      <td>1</td>\n",
       "      <td>60</td>\n",
       "      <td>3000</td>\n",
       "    </tr>\n",
       "    <tr>\n",
       "      <th>1</th>\n",
       "      <td>4</td>\n",
       "      <td>4</td>\n",
       "      <td>2</td>\n",
       "      <td>3</td>\n",
       "      <td>1</td>\n",
       "      <td>15000</td>\n",
       "      <td>1</td>\n",
       "      <td>60</td>\n",
       "      <td>3000</td>\n",
       "    </tr>\n",
       "  </tbody>\n",
       "</table>\n",
       "</div>"
      ],
      "text/plain": [
       "   link_id  from_node_id  to_node_id  link_type  dir_flag  length  lanes  \\\n",
       "0        3             1           4          3         1   15000      1   \n",
       "1        4             4           2          3         1   15000      1   \n",
       "\n",
       "   free_speed  capacity  \n",
       "0          60      3000  \n",
       "1          60      3000  "
      ]
     },
     "execution_count": 4,
     "metadata": {},
     "output_type": "execute_result"
    }
   ],
   "source": [
    "link"
   ]
  },
  {
   "cell_type": "code",
   "execution_count": 5,
   "id": "a2ffee4a",
   "metadata": {},
   "outputs": [
    {
     "data": {
      "text/html": [
       "<div>\n",
       "<style scoped>\n",
       "    .dataframe tbody tr th:only-of-type {\n",
       "        vertical-align: middle;\n",
       "    }\n",
       "\n",
       "    .dataframe tbody tr th {\n",
       "        vertical-align: top;\n",
       "    }\n",
       "\n",
       "    .dataframe thead th {\n",
       "        text-align: right;\n",
       "    }\n",
       "</style>\n",
       "<table border=\"1\" class=\"dataframe\">\n",
       "  <thead>\n",
       "    <tr style=\"text-align: right;\">\n",
       "      <th></th>\n",
       "      <th>o_zone_id</th>\n",
       "      <th>d_zone_id</th>\n",
       "      <th>volume</th>\n",
       "    </tr>\n",
       "  </thead>\n",
       "  <tbody>\n",
       "    <tr>\n",
       "      <th>0</th>\n",
       "      <td>1</td>\n",
       "      <td>2</td>\n",
       "      <td>7000</td>\n",
       "    </tr>\n",
       "  </tbody>\n",
       "</table>\n",
       "</div>"
      ],
      "text/plain": [
       "   o_zone_id  d_zone_id  volume\n",
       "0          1          2    7000"
      ]
     },
     "execution_count": 5,
     "metadata": {},
     "output_type": "execute_result"
    }
   ],
   "source": [
    "demand"
   ]
  },
  {
   "cell_type": "markdown",
   "id": "a647ab01",
   "metadata": {},
   "source": [
    "In file mode_type.csv, eight types of mode are defined with their name, person_occupancy, and so on. And when the attribute activate in this file is set to 1, the mode is valid and will be processed by the program."
   ]
  },
  {
   "cell_type": "code",
   "execution_count": 6,
   "id": "eb91efb9",
   "metadata": {},
   "outputs": [
    {
     "data": {
      "text/html": [
       "<div>\n",
       "<style scoped>\n",
       "    .dataframe tbody tr th:only-of-type {\n",
       "        vertical-align: middle;\n",
       "    }\n",
       "\n",
       "    .dataframe tbody tr th {\n",
       "        vertical-align: top;\n",
       "    }\n",
       "\n",
       "    .dataframe thead th {\n",
       "        text-align: right;\n",
       "    }\n",
       "</style>\n",
       "<table border=\"1\" class=\"dataframe\">\n",
       "  <thead>\n",
       "    <tr style=\"text-align: right;\">\n",
       "      <th></th>\n",
       "      <th>first_column</th>\n",
       "      <th>mode_type</th>\n",
       "      <th>mode_type_index</th>\n",
       "      <th>name</th>\n",
       "      <th>vot</th>\n",
       "      <th>multimodal_dedicated_assignment_flag</th>\n",
       "      <th>person_occupancy</th>\n",
       "      <th>headway_in_sec</th>\n",
       "      <th>DTM_real_time_info_type</th>\n",
       "      <th>activate</th>\n",
       "    </tr>\n",
       "  </thead>\n",
       "  <tbody>\n",
       "    <tr>\n",
       "      <th>0</th>\n",
       "      <td>0</td>\n",
       "      <td>auto</td>\n",
       "      <td>0</td>\n",
       "      <td>auto</td>\n",
       "      <td>10</td>\n",
       "      <td>1</td>\n",
       "      <td>1</td>\n",
       "      <td>1.50</td>\n",
       "      <td>0</td>\n",
       "      <td>1</td>\n",
       "    </tr>\n",
       "    <tr>\n",
       "      <th>1</th>\n",
       "      <td>0</td>\n",
       "      <td>walk</td>\n",
       "      <td>1</td>\n",
       "      <td>walk</td>\n",
       "      <td>10</td>\n",
       "      <td>1</td>\n",
       "      <td>1</td>\n",
       "      <td>1.00</td>\n",
       "      <td>0</td>\n",
       "      <td>1</td>\n",
       "    </tr>\n",
       "    <tr>\n",
       "      <th>2</th>\n",
       "      <td>0</td>\n",
       "      <td>bike</td>\n",
       "      <td>2</td>\n",
       "      <td>bike</td>\n",
       "      <td>10</td>\n",
       "      <td>1</td>\n",
       "      <td>1</td>\n",
       "      <td>1.00</td>\n",
       "      <td>0</td>\n",
       "      <td>1</td>\n",
       "    </tr>\n",
       "    <tr>\n",
       "      <th>3</th>\n",
       "      <td>0</td>\n",
       "      <td>bus</td>\n",
       "      <td>3</td>\n",
       "      <td>bus</td>\n",
       "      <td>10</td>\n",
       "      <td>1</td>\n",
       "      <td>10</td>\n",
       "      <td>0.10</td>\n",
       "      <td>0</td>\n",
       "      <td>0</td>\n",
       "    </tr>\n",
       "    <tr>\n",
       "      <th>4</th>\n",
       "      <td>0</td>\n",
       "      <td>truck</td>\n",
       "      <td>4</td>\n",
       "      <td>truck</td>\n",
       "      <td>10</td>\n",
       "      <td>0</td>\n",
       "      <td>1</td>\n",
       "      <td>0.20</td>\n",
       "      <td>0</td>\n",
       "      <td>0</td>\n",
       "    </tr>\n",
       "    <tr>\n",
       "      <th>5</th>\n",
       "      <td>0</td>\n",
       "      <td>cav</td>\n",
       "      <td>5</td>\n",
       "      <td>cav</td>\n",
       "      <td>10</td>\n",
       "      <td>0</td>\n",
       "      <td>1</td>\n",
       "      <td>0.75</td>\n",
       "      <td>1</td>\n",
       "      <td>0</td>\n",
       "    </tr>\n",
       "    <tr>\n",
       "      <th>6</th>\n",
       "      <td>0</td>\n",
       "      <td>ev</td>\n",
       "      <td>6</td>\n",
       "      <td>ev</td>\n",
       "      <td>10</td>\n",
       "      <td>0</td>\n",
       "      <td>1</td>\n",
       "      <td>1.50</td>\n",
       "      <td>0</td>\n",
       "      <td>0</td>\n",
       "    </tr>\n",
       "    <tr>\n",
       "      <th>7</th>\n",
       "      <td>0</td>\n",
       "      <td>hov</td>\n",
       "      <td>7</td>\n",
       "      <td>hov</td>\n",
       "      <td>10</td>\n",
       "      <td>0</td>\n",
       "      <td>2</td>\n",
       "      <td>1.50</td>\n",
       "      <td>0</td>\n",
       "      <td>0</td>\n",
       "    </tr>\n",
       "  </tbody>\n",
       "</table>\n",
       "</div>"
      ],
      "text/plain": [
       "   first_column mode_type  mode_type_index   name  vot  \\\n",
       "0             0      auto                0   auto   10   \n",
       "1             0      walk                1   walk   10   \n",
       "2             0      bike                2   bike   10   \n",
       "3             0       bus                3    bus   10   \n",
       "4             0     truck                4  truck   10   \n",
       "5             0       cav                5    cav   10   \n",
       "6             0        ev                6     ev   10   \n",
       "7             0       hov                7    hov   10   \n",
       "\n",
       "   multimodal_dedicated_assignment_flag  person_occupancy  headway_in_sec  \\\n",
       "0                                     1                 1            1.50   \n",
       "1                                     1                 1            1.00   \n",
       "2                                     1                 1            1.00   \n",
       "3                                     1                10            0.10   \n",
       "4                                     0                 1            0.20   \n",
       "5                                     0                 1            0.75   \n",
       "6                                     0                 1            1.50   \n",
       "7                                     0                 2            1.50   \n",
       "\n",
       "   DTM_real_time_info_type  activate  \n",
       "0                        0         1  \n",
       "1                        0         1  \n",
       "2                        0         1  \n",
       "3                        0         0  \n",
       "4                        0         0  \n",
       "5                        1         0  \n",
       "6                        0         0  \n",
       "7                        0         0  "
      ]
     },
     "execution_count": 6,
     "metadata": {},
     "output_type": "execute_result"
    }
   ],
   "source": [
    "mode_type"
   ]
  },
  {
   "cell_type": "markdown",
   "id": "40bf01e5",
   "metadata": {},
   "source": [
    "The following code plots the read road network data into a network diagram to visualise this road network:"
   ]
  },
  {
   "cell_type": "code",
   "execution_count": 7,
   "id": "785d60d0",
   "metadata": {},
   "outputs": [
    {
     "data": {
      "image/png": "[encoded data removed]",
      "text/plain": [
       "<Figure size 640x480 with 1 Axes>"
      ]
     },
     "metadata": {},
     "output_type": "display_data"
    }
   ],
   "source": [
    "gnode = list(node['node_id'])\n",
    "glink = list(zip(link['from_node_id'],link['to_node_id']))\n",
    "G = nx.DiGraph()           # grapgh object\n",
    "G.add_nodes_from(gnode)\n",
    "G.add_edges_from(glink)\n",
    "coordinates = np.array(list(zip(node['x_coord'],node['y_coord'])))\n",
    "npos = dict(zip(gnode,coordinates))  # Get the mapping relationship between nodes and coordinates, represented as a dictionary\n",
    "nlabels = dict(zip(gnode, gnode))\n",
    "\n",
    "nx.draw_networkx_nodes(G, npos, node_color=\"lightblue\")  # draw the nodes\n",
    "nx.draw_networkx_edges(G, npos, glink)  # draw the edges(links)\n",
    "nx.draw_networkx_labels(G, npos, nlabels)  # add labels\n",
    "str_cap = [\"cap:\"+ str(i) for i in list(link['capacity'])]\n",
    "edge_labels = dict(zip(glink, str_cap))\n",
    "\n",
    "nx.draw_networkx_edge_labels(G, npos, edge_labels=edge_labels, font_size=8) # show the assignment flow result\n",
    "plt.rcParams['figure.figsize']= (4, 3) "
   ]
  },
  {
   "cell_type": "markdown",
   "id": "f94e5a26",
   "metadata": {},
   "source": [
    "## 2.The main programme\n",
    "After preparing the data, you can run the DTA module of path4GMNS, which is called in a very simple way as shown below."
   ]
  },
  {
   "cell_type": "code",
   "execution_count": 8,
   "id": "e4878fc0",
   "metadata": {},
   "outputs": [
    {
     "name": "stdout",
     "output_type": "stream",
     "text": [
      "C:\\Users\\Lenovo\\path4GMNS_tutorial\\07_node_link_demand_multimodal\\minimum_input\n"
     ]
    }
   ],
   "source": [
    "cd .\\07_node_link_demand_multimodal\\minimum_input"
   ]
  },
  {
   "cell_type": "code",
   "execution_count": 9,
   "id": "5b3f9eac",
   "metadata": {},
   "outputs": [
    {
     "name": "stdout",
     "output_type": "stream",
     "text": [
      "\n",
      "DTALite run starts\n",
      "\n",
      "DTALite run completes!\n"
     ]
    }
   ],
   "source": [
    "pg.dtaapi.run_DTALite()"
   ]
  },
  {
   "cell_type": "code",
   "execution_count": 10,
   "id": "5b4c3a0c",
   "metadata": {},
   "outputs": [
    {
     "name": "stdout",
     "output_type": "stream",
     "text": [
      "C:\\Users\\Lenovo\\path4GMNS_tutorial\\07_node_link_demand_multimodal\\minimum_input\n"
     ]
    }
   ],
   "source": [
    "!cd"
   ]
  },
  {
   "cell_type": "markdown",
   "id": "8563a459",
   "metadata": {},
   "source": [
    "You can ensure that the program is running correctly by outputting a list of files in the current directory (the directory where pg.dtaapi.run_DTALite is running) and comparing it to the reference output provided by the DTA-user-guide documentation."
   ]
  },
  {
   "cell_type": "code",
   "execution_count": 11,
   "id": "5b0796d0",
   "metadata": {},
   "outputs": [
    {
     "data": {
      "text/plain": [
       "['choice_set_output_0_25nb.csv',\n",
       " 'demand.csv',\n",
       " 'demand_file_list.csv',\n",
       " 'demand_period.csv',\n",
       " 'departure_time_profile.csv',\n",
       " 'district_performance_s0_25nb.csv',\n",
       " 'dynamic_traffic_management.csv',\n",
       " 'final_summary.csv',\n",
       " 'link.csv',\n",
       " 'link_performance_s0_25nb.csv',\n",
       " 'link_performance_summary.csv',\n",
       " 'link_performance_summary_2way.csv',\n",
       " 'link_type.csv',\n",
       " 'log_DTA.txt',\n",
       " 'log_label_correcting.txt',\n",
       " 'log_main.txt',\n",
       " 'log_scenario.txt',\n",
       " 'log_shortest_path_tree.csv',\n",
       " 'log_simulation.txt',\n",
       " 'log_subarea_focusing.txt',\n",
       " 'log_traffic_assignment.csv',\n",
       " 'model_link.csv',\n",
       " 'model_node.csv',\n",
       " 'mode_type.csv',\n",
       " 'node.csv',\n",
       " 'od_performance_summary.csv',\n",
       " 'route_assignment_s0_25nb.csv',\n",
       " 'scenario_index_list.csv',\n",
       " 'sensor_data.csv',\n",
       " 'settings.csv',\n",
       " 'subarea.csv',\n",
       " 'system_performance_summary.csv',\n",
       " 'zonal_hierarchy_mapping.csv']"
      ]
     },
     "execution_count": 11,
     "metadata": {},
     "output_type": "execute_result"
    }
   ],
   "source": [
    "files = os.listdir('.')\n",
    "files"
   ]
  },
  {
   "cell_type": "markdown",
   "id": "2e7045c0",
   "metadata": {},
   "source": [
    "## 3.Results\n",
    "### a.Route assignment results\n",
    "This result is output by the programme in route_assignment_[scenarioname].csv. This part presents the feasible routes between the OD pairs, the traffic assignment of each route after DTA, and other data such as route passing time."
   ]
  },
  {
   "cell_type": "code",
   "execution_count": 12,
   "id": "5f639ca5",
   "metadata": {},
   "outputs": [
    {
     "data": {
      "text/html": [
       "<div>\n",
       "<style scoped>\n",
       "    .dataframe tbody tr th:only-of-type {\n",
       "        vertical-align: middle;\n",
       "    }\n",
       "\n",
       "    .dataframe tbody tr th {\n",
       "        vertical-align: top;\n",
       "    }\n",
       "\n",
       "    .dataframe thead th {\n",
       "        text-align: right;\n",
       "    }\n",
       "</style>\n",
       "<table border=\"1\" class=\"dataframe\">\n",
       "  <thead>\n",
       "    <tr style=\"text-align: right;\">\n",
       "      <th></th>\n",
       "      <th>first_column</th>\n",
       "      <th>route_seq_id</th>\n",
       "      <th>o_zone_id</th>\n",
       "      <th>d_zone_id</th>\n",
       "      <th>o_super_zone_index</th>\n",
       "      <th>d_super_zone_index</th>\n",
       "      <th>od_pair_key</th>\n",
       "      <th>information_type</th>\n",
       "      <th>mode_type</th>\n",
       "      <th>demand_period</th>\n",
       "      <th>...</th>\n",
       "      <th>sequential_link_delay</th>\n",
       "      <th>sequential_link_FFTT</th>\n",
       "      <th>DTM_OD_impact</th>\n",
       "      <th>DTM_path_impact</th>\n",
       "      <th>DTM_#_of_lane_closure_links</th>\n",
       "      <th>DTM_new_path_generated</th>\n",
       "      <th>DTM_volume_before</th>\n",
       "      <th>DTM_volume_after</th>\n",
       "      <th>DTM_volume_diff</th>\n",
       "      <th></th>\n",
       "    </tr>\n",
       "  </thead>\n",
       "  <tbody>\n",
       "    <tr>\n",
       "      <th>NaN</th>\n",
       "      <td>1</td>\n",
       "      <td>1</td>\n",
       "      <td>2</td>\n",
       "      <td>0</td>\n",
       "      <td>1</td>\n",
       "      <td>1-&gt;2</td>\n",
       "      <td>0</td>\n",
       "      <td>auto</td>\n",
       "      <td>am</td>\n",
       "      <td>70.0</td>\n",
       "      <td>...</td>\n",
       "      <td>15.000;15.000;</td>\n",
       "      <td>0</td>\n",
       "      <td>NaN</td>\n",
       "      <td>NaN</td>\n",
       "      <td>NaN</td>\n",
       "      <td>NaN</td>\n",
       "      <td>NaN</td>\n",
       "      <td>NaN</td>\n",
       "      <td>NaN</td>\n",
       "      <td>NaN</td>\n",
       "    </tr>\n",
       "    <tr>\n",
       "      <th>NaN</th>\n",
       "      <td>2</td>\n",
       "      <td>1</td>\n",
       "      <td>2</td>\n",
       "      <td>0</td>\n",
       "      <td>1</td>\n",
       "      <td>1-&gt;2</td>\n",
       "      <td>0</td>\n",
       "      <td>walk</td>\n",
       "      <td>am</td>\n",
       "      <td>7.0</td>\n",
       "      <td>...</td>\n",
       "      <td>15.000;15.000;</td>\n",
       "      <td>0</td>\n",
       "      <td>NaN</td>\n",
       "      <td>NaN</td>\n",
       "      <td>NaN</td>\n",
       "      <td>NaN</td>\n",
       "      <td>NaN</td>\n",
       "      <td>NaN</td>\n",
       "      <td>NaN</td>\n",
       "      <td>NaN</td>\n",
       "    </tr>\n",
       "    <tr>\n",
       "      <th>NaN</th>\n",
       "      <td>3</td>\n",
       "      <td>1</td>\n",
       "      <td>2</td>\n",
       "      <td>0</td>\n",
       "      <td>1</td>\n",
       "      <td>1-&gt;2</td>\n",
       "      <td>0</td>\n",
       "      <td>bike</td>\n",
       "      <td>am</td>\n",
       "      <td>7.0</td>\n",
       "      <td>...</td>\n",
       "      <td>15.000;15.000;</td>\n",
       "      <td>0</td>\n",
       "      <td>NaN</td>\n",
       "      <td>NaN</td>\n",
       "      <td>NaN</td>\n",
       "      <td>NaN</td>\n",
       "      <td>NaN</td>\n",
       "      <td>NaN</td>\n",
       "      <td>NaN</td>\n",
       "      <td>NaN</td>\n",
       "    </tr>\n",
       "  </tbody>\n",
       "</table>\n",
       "<p>3 rows × 41 columns</p>\n",
       "</div>"
      ],
      "text/plain": [
       "     first_column  route_seq_id  o_zone_id  d_zone_id  o_super_zone_index  \\\n",
       "NaN             1             1          2          0                   1   \n",
       "NaN             2             1          2          0                   1   \n",
       "NaN             3             1          2          0                   1   \n",
       "\n",
       "    d_super_zone_index  od_pair_key information_type mode_type  demand_period  \\\n",
       "NaN               1->2            0             auto        am           70.0   \n",
       "NaN               1->2            0             walk        am            7.0   \n",
       "NaN               1->2            0             bike        am            7.0   \n",
       "\n",
       "     ...  sequential_link_delay  sequential_link_FFTT  DTM_OD_impact  \\\n",
       "NaN  ...         15.000;15.000;                     0            NaN   \n",
       "NaN  ...         15.000;15.000;                     0            NaN   \n",
       "NaN  ...         15.000;15.000;                     0            NaN   \n",
       "\n",
       "     DTM_path_impact  DTM_#_of_lane_closure_links  DTM_new_path_generated  \\\n",
       "NaN              NaN                          NaN                     NaN   \n",
       "NaN              NaN                          NaN                     NaN   \n",
       "NaN              NaN                          NaN                     NaN   \n",
       "\n",
       "     DTM_volume_before  DTM_volume_after  DTM_volume_diff      \n",
       "NaN                NaN               NaN              NaN NaN  \n",
       "NaN                NaN               NaN              NaN NaN  \n",
       "NaN                NaN               NaN              NaN NaN  \n",
       "\n",
       "[3 rows x 41 columns]"
      ]
     },
     "execution_count": 12,
     "metadata": {},
     "output_type": "execute_result"
    }
   ],
   "source": [
    "route_assignment = pd.read_csv('route_assignment_s0_25nb.csv')\n",
    "route_assignment"
   ]
  },
  {
   "cell_type": "code",
   "execution_count": 13,
   "id": "f13c38b2",
   "metadata": {},
   "outputs": [],
   "source": [
    "def corr(route_df):\n",
    "    # The original document has a line first_column, which will cause data misalignment merger\n",
    "    # Here is to fix the problem of misalignment\n",
    "    col=list(route_df.columns)\n",
    "    col.remove('first_column')\n",
    "    col.append('last')\n",
    "    dic=dict(zip(list(route_df.columns),col))\n",
    "    route=route_df.rename(columns=dic)\n",
    "    return route"
   ]
  },
  {
   "cell_type": "markdown",
   "id": "9588ec07",
   "metadata": {},
   "source": [
    "Corrected route result:"
   ]
  },
  {
   "cell_type": "code",
   "execution_count": 14,
   "id": "379a27f9",
   "metadata": {},
   "outputs": [
    {
     "data": {
      "text/html": [
       "<div>\n",
       "<style scoped>\n",
       "    .dataframe tbody tr th:only-of-type {\n",
       "        vertical-align: middle;\n",
       "    }\n",
       "\n",
       "    .dataframe tbody tr th {\n",
       "        vertical-align: top;\n",
       "    }\n",
       "\n",
       "    .dataframe thead th {\n",
       "        text-align: right;\n",
       "    }\n",
       "</style>\n",
       "<table border=\"1\" class=\"dataframe\">\n",
       "  <thead>\n",
       "    <tr style=\"text-align: right;\">\n",
       "      <th></th>\n",
       "      <th>route_seq_id</th>\n",
       "      <th>o_zone_id</th>\n",
       "      <th>d_zone_id</th>\n",
       "      <th>o_super_zone_index</th>\n",
       "      <th>d_super_zone_index</th>\n",
       "      <th>od_pair_key</th>\n",
       "      <th>information_type</th>\n",
       "      <th>mode_type</th>\n",
       "      <th>demand_period</th>\n",
       "      <th>volume</th>\n",
       "      <th>...</th>\n",
       "      <th>sequential_link_FFTT</th>\n",
       "      <th>DTM_OD_impact</th>\n",
       "      <th>DTM_path_impact</th>\n",
       "      <th>DTM_#_of_lane_closure_links</th>\n",
       "      <th>DTM_new_path_generated</th>\n",
       "      <th>DTM_volume_before</th>\n",
       "      <th>DTM_volume_after</th>\n",
       "      <th>DTM_volume_diff</th>\n",
       "      <th></th>\n",
       "      <th>last</th>\n",
       "    </tr>\n",
       "  </thead>\n",
       "  <tbody>\n",
       "    <tr>\n",
       "      <th>NaN</th>\n",
       "      <td>1</td>\n",
       "      <td>1</td>\n",
       "      <td>2</td>\n",
       "      <td>0</td>\n",
       "      <td>1</td>\n",
       "      <td>1-&gt;2</td>\n",
       "      <td>0</td>\n",
       "      <td>auto</td>\n",
       "      <td>am</td>\n",
       "      <td>70.0</td>\n",
       "      <td>...</td>\n",
       "      <td>15.000;15.000;</td>\n",
       "      <td>0</td>\n",
       "      <td>NaN</td>\n",
       "      <td>NaN</td>\n",
       "      <td>NaN</td>\n",
       "      <td>NaN</td>\n",
       "      <td>NaN</td>\n",
       "      <td>NaN</td>\n",
       "      <td>NaN</td>\n",
       "      <td>NaN</td>\n",
       "    </tr>\n",
       "    <tr>\n",
       "      <th>NaN</th>\n",
       "      <td>2</td>\n",
       "      <td>1</td>\n",
       "      <td>2</td>\n",
       "      <td>0</td>\n",
       "      <td>1</td>\n",
       "      <td>1-&gt;2</td>\n",
       "      <td>0</td>\n",
       "      <td>walk</td>\n",
       "      <td>am</td>\n",
       "      <td>7.0</td>\n",
       "      <td>...</td>\n",
       "      <td>15.000;15.000;</td>\n",
       "      <td>0</td>\n",
       "      <td>NaN</td>\n",
       "      <td>NaN</td>\n",
       "      <td>NaN</td>\n",
       "      <td>NaN</td>\n",
       "      <td>NaN</td>\n",
       "      <td>NaN</td>\n",
       "      <td>NaN</td>\n",
       "      <td>NaN</td>\n",
       "    </tr>\n",
       "    <tr>\n",
       "      <th>NaN</th>\n",
       "      <td>3</td>\n",
       "      <td>1</td>\n",
       "      <td>2</td>\n",
       "      <td>0</td>\n",
       "      <td>1</td>\n",
       "      <td>1-&gt;2</td>\n",
       "      <td>0</td>\n",
       "      <td>bike</td>\n",
       "      <td>am</td>\n",
       "      <td>7.0</td>\n",
       "      <td>...</td>\n",
       "      <td>15.000;15.000;</td>\n",
       "      <td>0</td>\n",
       "      <td>NaN</td>\n",
       "      <td>NaN</td>\n",
       "      <td>NaN</td>\n",
       "      <td>NaN</td>\n",
       "      <td>NaN</td>\n",
       "      <td>NaN</td>\n",
       "      <td>NaN</td>\n",
       "      <td>NaN</td>\n",
       "    </tr>\n",
       "  </tbody>\n",
       "</table>\n",
       "<p>3 rows × 41 columns</p>\n",
       "</div>"
      ],
      "text/plain": [
       "     route_seq_id  o_zone_id  d_zone_id  o_super_zone_index  \\\n",
       "NaN             1          1          2                   0   \n",
       "NaN             2          1          2                   0   \n",
       "NaN             3          1          2                   0   \n",
       "\n",
       "     d_super_zone_index od_pair_key  information_type mode_type demand_period  \\\n",
       "NaN                   1        1->2                 0      auto            am   \n",
       "NaN                   1        1->2                 0      walk            am   \n",
       "NaN                   1        1->2                 0      bike            am   \n",
       "\n",
       "     volume  ...  sequential_link_FFTT  DTM_OD_impact  DTM_path_impact  \\\n",
       "NaN    70.0  ...        15.000;15.000;              0              NaN   \n",
       "NaN     7.0  ...        15.000;15.000;              0              NaN   \n",
       "NaN     7.0  ...        15.000;15.000;              0              NaN   \n",
       "\n",
       "     DTM_#_of_lane_closure_links  DTM_new_path_generated  DTM_volume_before  \\\n",
       "NaN                          NaN                     NaN                NaN   \n",
       "NaN                          NaN                     NaN                NaN   \n",
       "NaN                          NaN                     NaN                NaN   \n",
       "\n",
       "     DTM_volume_after  DTM_volume_diff      last  \n",
       "NaN               NaN              NaN NaN   NaN  \n",
       "NaN               NaN              NaN NaN   NaN  \n",
       "NaN               NaN              NaN NaN   NaN  \n",
       "\n",
       "[3 rows x 41 columns]"
      ]
     },
     "execution_count": 14,
     "metadata": {},
     "output_type": "execute_result"
    }
   ],
   "source": [
    "route = corr(route_assignment)\n",
    "route"
   ]
  },
  {
   "cell_type": "code",
   "execution_count": 18,
   "id": "42e8a8b1",
   "metadata": {},
   "outputs": [
    {
     "data": {
      "text/html": [
       "<div>\n",
       "<style scoped>\n",
       "    .dataframe tbody tr th:only-of-type {\n",
       "        vertical-align: middle;\n",
       "    }\n",
       "\n",
       "    .dataframe tbody tr th {\n",
       "        vertical-align: top;\n",
       "    }\n",
       "\n",
       "    .dataframe thead th {\n",
       "        text-align: right;\n",
       "    }\n",
       "</style>\n",
       "<table border=\"1\" class=\"dataframe\">\n",
       "  <thead>\n",
       "    <tr style=\"text-align: right;\">\n",
       "      <th></th>\n",
       "      <th>route_seq_id</th>\n",
       "      <th>od_pair_key</th>\n",
       "      <th>mode_type</th>\n",
       "      <th>volume</th>\n",
       "      <th>travel_time</th>\n",
       "      <th>node_sequence</th>\n",
       "      <th>link_id_sequence</th>\n",
       "      <th>demand_period</th>\n",
       "    </tr>\n",
       "  </thead>\n",
       "  <tbody>\n",
       "    <tr>\n",
       "      <th>NaN</th>\n",
       "      <td>1</td>\n",
       "      <td>1-&gt;2</td>\n",
       "      <td>auto</td>\n",
       "      <td>70.0</td>\n",
       "      <td>30.0000</td>\n",
       "      <td>1;4;2;</td>\n",
       "      <td>3;4;</td>\n",
       "      <td>am</td>\n",
       "    </tr>\n",
       "    <tr>\n",
       "      <th>NaN</th>\n",
       "      <td>2</td>\n",
       "      <td>1-&gt;2</td>\n",
       "      <td>walk</td>\n",
       "      <td>7.0</td>\n",
       "      <td>180.0000</td>\n",
       "      <td>1;4;2;</td>\n",
       "      <td>3;4;</td>\n",
       "      <td>am</td>\n",
       "    </tr>\n",
       "    <tr>\n",
       "      <th>NaN</th>\n",
       "      <td>3</td>\n",
       "      <td>1-&gt;2</td>\n",
       "      <td>bike</td>\n",
       "      <td>7.0</td>\n",
       "      <td>72.0664</td>\n",
       "      <td>1;4;2;</td>\n",
       "      <td>3;4;</td>\n",
       "      <td>am</td>\n",
       "    </tr>\n",
       "  </tbody>\n",
       "</table>\n",
       "</div>"
      ],
      "text/plain": [
       "     route_seq_id od_pair_key mode_type  volume  travel_time node_sequence  \\\n",
       "NaN             1        1->2      auto    70.0      30.0000        1;4;2;   \n",
       "NaN             2        1->2      walk     7.0     180.0000        1;4;2;   \n",
       "NaN             3        1->2      bike     7.0      72.0664        1;4;2;   \n",
       "\n",
       "    link_id_sequence demand_period  \n",
       "NaN             3;4;            am  \n",
       "NaN             3;4;            am  \n",
       "NaN             3;4;            am  "
      ]
     },
     "execution_count": 18,
     "metadata": {},
     "output_type": "execute_result"
    }
   ],
   "source": [
    "route[['route_seq_id','od_pair_key','mode_type','volume','travel_time','node_sequence','link_id_sequence','demand_period']]"
   ]
  },
  {
   "cell_type": "markdown",
   "id": "6e5a478f",
   "metadata": {},
   "source": [
    "Since you have given different mode types in the input file, it have generated different assignment results for each mode. When analysing and using this part of the data, you need to extract these three modes separately."
   ]
  },
  {
   "cell_type": "code",
   "execution_count": 19,
   "id": "cbeff978",
   "metadata": {},
   "outputs": [
    {
     "data": {
      "text/html": [
       "<div>\n",
       "<style scoped>\n",
       "    .dataframe tbody tr th:only-of-type {\n",
       "        vertical-align: middle;\n",
       "    }\n",
       "\n",
       "    .dataframe tbody tr th {\n",
       "        vertical-align: top;\n",
       "    }\n",
       "\n",
       "    .dataframe thead th {\n",
       "        text-align: right;\n",
       "    }\n",
       "</style>\n",
       "<table border=\"1\" class=\"dataframe\">\n",
       "  <thead>\n",
       "    <tr style=\"text-align: right;\">\n",
       "      <th></th>\n",
       "      <th>route_seq_id</th>\n",
       "      <th>od_pair_key</th>\n",
       "      <th>mode_type</th>\n",
       "      <th>volume</th>\n",
       "      <th>travel_time</th>\n",
       "      <th>node_sequence</th>\n",
       "      <th>link_id_sequence</th>\n",
       "      <th>demand_period</th>\n",
       "    </tr>\n",
       "  </thead>\n",
       "  <tbody>\n",
       "    <tr>\n",
       "      <th>NaN</th>\n",
       "      <td>1</td>\n",
       "      <td>1-&gt;2</td>\n",
       "      <td>auto</td>\n",
       "      <td>70.0</td>\n",
       "      <td>30.0</td>\n",
       "      <td>1;4;2;</td>\n",
       "      <td>3;4;</td>\n",
       "      <td>am</td>\n",
       "    </tr>\n",
       "  </tbody>\n",
       "</table>\n",
       "</div>"
      ],
      "text/plain": [
       "     route_seq_id od_pair_key mode_type  volume  travel_time node_sequence  \\\n",
       "NaN             1        1->2      auto    70.0         30.0        1;4;2;   \n",
       "\n",
       "    link_id_sequence demand_period  \n",
       "NaN             3;4;            am  "
      ]
     },
     "execution_count": 19,
     "metadata": {},
     "output_type": "execute_result"
    }
   ],
   "source": [
    "route_auto=route[route['mode_type']=='auto']\n",
    "route_auto[['route_seq_id','od_pair_key','mode_type','volume','travel_time','node_sequence','link_id_sequence','demand_period']]"
   ]
  },
  {
   "cell_type": "code",
   "execution_count": 20,
   "id": "5d4db326",
   "metadata": {},
   "outputs": [
    {
     "data": {
      "text/html": [
       "<div>\n",
       "<style scoped>\n",
       "    .dataframe tbody tr th:only-of-type {\n",
       "        vertical-align: middle;\n",
       "    }\n",
       "\n",
       "    .dataframe tbody tr th {\n",
       "        vertical-align: top;\n",
       "    }\n",
       "\n",
       "    .dataframe thead th {\n",
       "        text-align: right;\n",
       "    }\n",
       "</style>\n",
       "<table border=\"1\" class=\"dataframe\">\n",
       "  <thead>\n",
       "    <tr style=\"text-align: right;\">\n",
       "      <th></th>\n",
       "      <th>route_seq_id</th>\n",
       "      <th>od_pair_key</th>\n",
       "      <th>mode_type</th>\n",
       "      <th>volume</th>\n",
       "      <th>travel_time</th>\n",
       "      <th>node_sequence</th>\n",
       "      <th>link_id_sequence</th>\n",
       "      <th>demand_period</th>\n",
       "    </tr>\n",
       "  </thead>\n",
       "  <tbody>\n",
       "    <tr>\n",
       "      <th>NaN</th>\n",
       "      <td>3</td>\n",
       "      <td>1-&gt;2</td>\n",
       "      <td>bike</td>\n",
       "      <td>7.0</td>\n",
       "      <td>72.0664</td>\n",
       "      <td>1;4;2;</td>\n",
       "      <td>3;4;</td>\n",
       "      <td>am</td>\n",
       "    </tr>\n",
       "  </tbody>\n",
       "</table>\n",
       "</div>"
      ],
      "text/plain": [
       "     route_seq_id od_pair_key mode_type  volume  travel_time node_sequence  \\\n",
       "NaN             3        1->2      bike     7.0      72.0664        1;4;2;   \n",
       "\n",
       "    link_id_sequence demand_period  \n",
       "NaN             3;4;            am  "
      ]
     },
     "execution_count": 20,
     "metadata": {},
     "output_type": "execute_result"
    }
   ],
   "source": [
    "route_bike=route[route['mode_type']=='bike']\n",
    "route_bike[['route_seq_id','od_pair_key','mode_type','volume','travel_time','node_sequence','link_id_sequence','demand_period']]"
   ]
  },
  {
   "cell_type": "code",
   "execution_count": 21,
   "id": "bd011efa",
   "metadata": {},
   "outputs": [
    {
     "data": {
      "text/html": [
       "<div>\n",
       "<style scoped>\n",
       "    .dataframe tbody tr th:only-of-type {\n",
       "        vertical-align: middle;\n",
       "    }\n",
       "\n",
       "    .dataframe tbody tr th {\n",
       "        vertical-align: top;\n",
       "    }\n",
       "\n",
       "    .dataframe thead th {\n",
       "        text-align: right;\n",
       "    }\n",
       "</style>\n",
       "<table border=\"1\" class=\"dataframe\">\n",
       "  <thead>\n",
       "    <tr style=\"text-align: right;\">\n",
       "      <th></th>\n",
       "      <th>route_seq_id</th>\n",
       "      <th>od_pair_key</th>\n",
       "      <th>mode_type</th>\n",
       "      <th>volume</th>\n",
       "      <th>travel_time</th>\n",
       "      <th>node_sequence</th>\n",
       "      <th>link_id_sequence</th>\n",
       "      <th>demand_period</th>\n",
       "    </tr>\n",
       "  </thead>\n",
       "  <tbody>\n",
       "    <tr>\n",
       "      <th>NaN</th>\n",
       "      <td>2</td>\n",
       "      <td>1-&gt;2</td>\n",
       "      <td>walk</td>\n",
       "      <td>7.0</td>\n",
       "      <td>180.0</td>\n",
       "      <td>1;4;2;</td>\n",
       "      <td>3;4;</td>\n",
       "      <td>am</td>\n",
       "    </tr>\n",
       "  </tbody>\n",
       "</table>\n",
       "</div>"
      ],
      "text/plain": [
       "     route_seq_id od_pair_key mode_type  volume  travel_time node_sequence  \\\n",
       "NaN             2        1->2      walk     7.0        180.0        1;4;2;   \n",
       "\n",
       "    link_id_sequence demand_period  \n",
       "NaN             3;4;            am  "
      ]
     },
     "execution_count": 21,
     "metadata": {},
     "output_type": "execute_result"
    }
   ],
   "source": [
    "route_walk=route[route['mode_type']=='walk']\n",
    "route_walk[['route_seq_id','od_pair_key','mode_type','volume','travel_time','node_sequence','link_id_sequence','demand_period']]"
   ]
  },
  {
   "cell_type": "markdown",
   "id": "14747987",
   "metadata": {},
   "source": [
    "As you can see, with different mode, the final volume and travel_time are different, which is affected by you defination in mode_type.csv."
   ]
  },
  {
   "cell_type": "markdown",
   "id": "e9afed45",
   "metadata": {},
   "source": [
    "### b.Link assignment results\n",
    "This result is output by the program in link_assignment_[scenarioname].csv, presenting the assignment on the link."
   ]
  },
  {
   "cell_type": "code",
   "execution_count": 22,
   "id": "fa72e611",
   "metadata": {},
   "outputs": [
    {
     "data": {
      "text/html": [
       "<div>\n",
       "<style scoped>\n",
       "    .dataframe tbody tr th:only-of-type {\n",
       "        vertical-align: middle;\n",
       "    }\n",
       "\n",
       "    .dataframe tbody tr th {\n",
       "        vertical-align: top;\n",
       "    }\n",
       "\n",
       "    .dataframe thead th {\n",
       "        text-align: right;\n",
       "    }\n",
       "</style>\n",
       "<table border=\"1\" class=\"dataframe\">\n",
       "  <thead>\n",
       "    <tr style=\"text-align: right;\">\n",
       "      <th></th>\n",
       "      <th>link_seq_id</th>\n",
       "      <th>link_id</th>\n",
       "      <th>vdf_type</th>\n",
       "      <th>from_node_id</th>\n",
       "      <th>to_node_id</th>\n",
       "      <th>lanes</th>\n",
       "      <th>distance_km</th>\n",
       "      <th>distance_mile</th>\n",
       "      <th>fftt</th>\n",
       "      <th>meso_link_id</th>\n",
       "      <th>...</th>\n",
       "      <th>DTM_speed_before</th>\n",
       "      <th>DTM_speed_after</th>\n",
       "      <th>DTM_speed_diff</th>\n",
       "      <th>DTM_DoC_before</th>\n",
       "      <th>DTM_DoC_after</th>\n",
       "      <th>DTM_Doc_diff</th>\n",
       "      <th>DTM_P_before</th>\n",
       "      <th>DTM_P_after</th>\n",
       "      <th>DTM_P_diff</th>\n",
       "      <th>notes</th>\n",
       "    </tr>\n",
       "  </thead>\n",
       "  <tbody>\n",
       "    <tr>\n",
       "      <th>0</th>\n",
       "      <td>1</td>\n",
       "      <td>3</td>\n",
       "      <td>bpr</td>\n",
       "      <td>1</td>\n",
       "      <td>4</td>\n",
       "      <td>1.0</td>\n",
       "      <td>15.0</td>\n",
       "      <td>9.322561</td>\n",
       "      <td>15.0</td>\n",
       "      <td>-1</td>\n",
       "      <td>...</td>\n",
       "      <td>60.0</td>\n",
       "      <td>60.0</td>\n",
       "      <td>0.0</td>\n",
       "      <td>0.028</td>\n",
       "      <td>0.028</td>\n",
       "      <td>0.0</td>\n",
       "      <td>0.006</td>\n",
       "      <td>0.006</td>\n",
       "      <td>0.0</td>\n",
       "      <td>period-based</td>\n",
       "    </tr>\n",
       "    <tr>\n",
       "      <th>1</th>\n",
       "      <td>2</td>\n",
       "      <td>4</td>\n",
       "      <td>bpr</td>\n",
       "      <td>4</td>\n",
       "      <td>2</td>\n",
       "      <td>1.0</td>\n",
       "      <td>15.0</td>\n",
       "      <td>9.322561</td>\n",
       "      <td>15.0</td>\n",
       "      <td>-1</td>\n",
       "      <td>...</td>\n",
       "      <td>60.0</td>\n",
       "      <td>60.0</td>\n",
       "      <td>0.0</td>\n",
       "      <td>0.028</td>\n",
       "      <td>0.028</td>\n",
       "      <td>0.0</td>\n",
       "      <td>0.006</td>\n",
       "      <td>0.006</td>\n",
       "      <td>0.0</td>\n",
       "      <td>period-based</td>\n",
       "    </tr>\n",
       "  </tbody>\n",
       "</table>\n",
       "<p>2 rows × 150 columns</p>\n",
       "</div>"
      ],
      "text/plain": [
       "   link_seq_id  link_id vdf_type  from_node_id  to_node_id  lanes  \\\n",
       "0            1        3      bpr             1           4    1.0   \n",
       "1            2        4      bpr             4           2    1.0   \n",
       "\n",
       "   distance_km  distance_mile  fftt  meso_link_id  ...  DTM_speed_before  \\\n",
       "0         15.0       9.322561  15.0            -1  ...              60.0   \n",
       "1         15.0       9.322561  15.0            -1  ...              60.0   \n",
       "\n",
       "   DTM_speed_after DTM_speed_diff  DTM_DoC_before  DTM_DoC_after  \\\n",
       "0             60.0            0.0           0.028          0.028   \n",
       "1             60.0            0.0           0.028          0.028   \n",
       "\n",
       "   DTM_Doc_diff  DTM_P_before  DTM_P_after  DTM_P_diff         notes  \n",
       "0           0.0         0.006        0.006         0.0  period-based  \n",
       "1           0.0         0.006        0.006         0.0  period-based  \n",
       "\n",
       "[2 rows x 150 columns]"
      ]
     },
     "execution_count": 22,
     "metadata": {},
     "output_type": "execute_result"
    }
   ],
   "source": [
    "link_performance = pd.read_csv('link_performance_s0_25nb.csv')\n",
    "link_performance"
   ]
  },
  {
   "cell_type": "code",
   "execution_count": 23,
   "id": "8d973553",
   "metadata": {},
   "outputs": [
    {
     "data": {
      "text/html": [
       "<div>\n",
       "<style scoped>\n",
       "    .dataframe tbody tr th:only-of-type {\n",
       "        vertical-align: middle;\n",
       "    }\n",
       "\n",
       "    .dataframe tbody tr th {\n",
       "        vertical-align: top;\n",
       "    }\n",
       "\n",
       "    .dataframe thead th {\n",
       "        text-align: right;\n",
       "    }\n",
       "</style>\n",
       "<table border=\"1\" class=\"dataframe\">\n",
       "  <thead>\n",
       "    <tr style=\"text-align: right;\">\n",
       "      <th></th>\n",
       "      <th>link_id</th>\n",
       "      <th>from_node_id</th>\n",
       "      <th>to_node_id</th>\n",
       "      <th>volume</th>\n",
       "    </tr>\n",
       "  </thead>\n",
       "  <tbody>\n",
       "    <tr>\n",
       "      <th>0</th>\n",
       "      <td>3</td>\n",
       "      <td>1</td>\n",
       "      <td>4</td>\n",
       "      <td>84.0</td>\n",
       "    </tr>\n",
       "    <tr>\n",
       "      <th>1</th>\n",
       "      <td>4</td>\n",
       "      <td>4</td>\n",
       "      <td>2</td>\n",
       "      <td>84.0</td>\n",
       "    </tr>\n",
       "  </tbody>\n",
       "</table>\n",
       "</div>"
      ],
      "text/plain": [
       "   link_id  from_node_id  to_node_id  volume\n",
       "0        3             1           4    84.0\n",
       "1        4             4           2    84.0"
      ]
     },
     "execution_count": 23,
     "metadata": {},
     "output_type": "execute_result"
    }
   ],
   "source": [
    "link_performance[['link_id','from_node_id','to_node_id','volume']]"
   ]
  },
  {
   "cell_type": "markdown",
   "id": "55bb9c77",
   "metadata": {},
   "source": [
    "With the link_performance file and network files(link.csv and node.csv), you can use the following code to get the network with assignment flow result on link."
   ]
  },
  {
   "cell_type": "code",
   "execution_count": 24,
   "id": "a9cbc383",
   "metadata": {},
   "outputs": [
    {
     "data": {
      "image/png": "[encoded data removed]",
      "text/plain": [
       "<Figure size 400x300 with 1 Axes>"
      ]
     },
     "metadata": {},
     "output_type": "display_data"
    }
   ],
   "source": [
    "gnode = list(node['node_id'])\n",
    "glink = list(zip(link['from_node_id'],link['to_node_id']))\n",
    "G = nx.DiGraph()           # grapgh object\n",
    "G.add_nodes_from(gnode)\n",
    "G.add_edges_from(glink)\n",
    "\n",
    "coordinates = np.array(list(zip(node['x_coord'],node['y_coord'])))\n",
    "npos = dict(zip(gnode,coordinates))  # Get the mapping relationship between nodes and coordinates, represented as a dictionary\n",
    "nlabels = dict(zip(gnode, gnode))\n",
    "edge_labels = dict(zip(glink, list(link_performance['volume'])))\n",
    "\n",
    "nx.draw_networkx_nodes(G, npos, node_color=\"lightblue\")  # draw the nodes\n",
    "nx.draw_networkx_edges(G, npos, glink)  # draw the edges(links)\n",
    "nx.draw_networkx_labels(G, npos, nlabels)  # add labels\n",
    "nx.draw_networkx_edge_labels(G, npos, edge_labels=edge_labels) # show the assignment flow result\n",
    "plt.rcParams['figure.figsize']= (4, 3) "
   ]
  },
  {
   "cell_type": "markdown",
   "id": "83779d2a",
   "metadata": {},
   "source": [
    "### c.Summary of results\n",
    "The program outputs various items such as runtime information, assignment results, and system performance to the final_summary.csv file, through which you can get the complete results of each part of the program."
   ]
  },
  {
   "cell_type": "code",
   "execution_count": 25,
   "id": "ee9e2991",
   "metadata": {},
   "outputs": [],
   "source": [
    "col_names=[str(i) for i in range(13)]\n",
    "data = pd.read_csv('final_summary.csv',header=None,names=col_names)"
   ]
  },
  {
   "cell_type": "code",
   "execution_count": 26,
   "id": "93c0374f",
   "metadata": {},
   "outputs": [
    {
     "data": {
      "text/plain": [
       "'                                                                                 0                                                                                                                                        1                                                    2                      3                                   4                   5                    6                    7                               8               9                 10                   11  12\\n0                           [PROCESS INFO] Step 0: reading scenario_index_list.csv                                                                                                                                      NaN                                                  NaN                    NaN                                 NaN                 NaN                  NaN                  NaN                             NaN             NaN                NaN                  NaN NaN\\n1                                                   [STATUS INFO] scenario_index=0                                                                                                                           scenario_name=                                                 25nb                    NaN                                 NaN                 NaN                  NaN                  NaN                             NaN             NaN                NaN                  NaN NaN\\n2                            [PROCESS INFO] Step 1.1: Reading demand_period.csv...                                                                                                                                      NaN                                                  NaN                    NaN                                 NaN                 NaN                  NaN                  NaN                             NaN             NaN                NaN                  NaN NaN\\n3                                                                              NaN                                                                                                                         demand_period= 1                                                   am  time_period=0700_0800                                 NaN                 NaN                  NaN                  NaN                             NaN             NaN                NaN                  NaN NaN\\n4                           [PROCESS INFO] Step 1.2: Reading file mode_type.csv...                                                                                                                                      NaN                                                  NaN                    NaN                                 NaN                 NaN                  NaN                  NaN                             NaN             NaN                NaN                  NaN NaN\\n5                                                                      mode_type =                                                                                                                                     auto                              real time info flag = 0                    NaN                                 NaN                 NaN                  NaN                  NaN                             NaN             NaN                NaN                  NaN NaN\\n6                                                                      mode_type =                                                                                                                                     walk                              real time info flag = 0                    NaN                                 NaN                 NaN                  NaN                  NaN                             NaN             NaN                NaN                  NaN NaN\\n7                                                                      mode_type =                                                                                                                                     bike                              real time info flag = 0                    NaN                                 NaN                 NaN                  NaN                  NaN                             NaN             NaN                NaN                  NaN NaN\\n8                                                                      link_type =                                                                                                                                        3                             link_type_name = primary                    NaN                                 NaN                 NaN                  NaN                  NaN                             NaN             NaN                NaN                  NaN NaN\\n9                                                                              NaN                                                                                                                          mode_type= auto                                            cap= 1500          free_speed=50                                 NaN                 NaN                  NaN                  NaN                             NaN             NaN                NaN                  NaN NaN\\n10                                                                             NaN                                                                                                                          mode_type= walk                                             cap= 200           free_speed=5                                 NaN                 NaN                  NaN                  NaN                             NaN             NaN                NaN                  NaN NaN\\n11                                                                             NaN                                                                                                                          mode_type= bike                                             cap= 300          free_speed=25                                 NaN                 NaN                  NaN                  NaN                             NaN             NaN                NaN                  NaN NaN\\n12                                                                             NaN                                                                                            number of activity nodes defined in node.csv=                                                    2                    NaN                                 NaN                 NaN                  NaN                  NaN                             NaN             NaN                NaN                  NaN NaN\\n13                                                                             NaN                                                                                   number of boundary activity nodes defined in node.csv=                                                    0                    NaN                                 NaN                 NaN                  NaN                  NaN                             NaN             NaN                NaN                  NaN NaN\\n14                                    [PROCESS INFO] Step 1: read network node.csv                                                                                                                                 link.csv                                            zone.csv                     NaN                                 NaN                 NaN                  NaN                  NaN                             NaN             NaN                NaN                  NaN NaN\\n15                                                                             NaN                                                                                                                            # of nodes =                                                     6                    NaN                                 NaN                 NaN                  NaN                  NaN                             NaN             NaN                NaN                  NaN NaN\\n16                                                                             NaN                                                                                                                             # of links =                                                    2                    NaN                                 NaN                 NaN                  NaN                  NaN                             NaN             NaN                NaN                  NaN NaN\\n17                                                                             NaN                                                                                                                             # of zones =                                                    2                    NaN                                 NaN                 NaN                  NaN                  NaN                             NaN             NaN                NaN                  NaN NaN\\n18                                    [PROCESS INFO] Step 1: read network node.csv                                                                                                                                 link.csv                                            zone.csv                     NaN                                 NaN                 NaN                  NaN                  NaN                             NaN             NaN                NaN                  NaN NaN\\n19                                                                             NaN                                                                                                                            # of nodes =                                                     6                    NaN                                 NaN                 NaN                  NaN                  NaN                             NaN             NaN                NaN                  NaN NaN\\n20                                                                             NaN                                                                                                                             # of links =                                                    2                    NaN                                 NaN                 NaN                  NaN                  NaN                             NaN             NaN                NaN                  NaN NaN\\n21                                                                             NaN                                                                                                                             # of zones =                                                    2                    NaN                                 NaN                 NaN                  NaN                  NaN                             NaN             NaN                NaN                  NaN NaN\\n22                                                                             NaN                                                                                                                summary by road link type                                            link_type         link_type_name                          # of links  avg_free_speed_mph  avg_free_speed_kmph                  NaN                    total_length  total_capacity  avg_lane_capacity  avg_length_in_meter NaN\\n23                                                                             NaN                                                                                                                                      NaN                                                   -1                    NaN                                   0                   0                    0                    0                               0               0                  0                  NaN NaN\\n24                                                                             NaN                                                                                                                                      NaN                                                    3                primary                                   2                  60              96.5604                   30                            6000            3000              15000                  NaN NaN\\n25                                                                             NaN                                                                                                                                      NaN                                                   -1                    NaN                                 NaN                 NaN                    3              primary  pre-read demand_file_list.csv.             NaN                NaN                  NaN NaN\\n26                                                                             NaN                                                                                                                     first stage scanning                                                  NaN                    NaN                                 NaN                 NaN                  NaN                  NaN                             NaN             NaN                NaN                  NaN NaN\\n27                                                                             NaN                                                                                                                    # of inside zones = 2                          total_related_demand = 7000                    NaN                                 NaN                 NaN                  NaN                  NaN                             NaN             NaN                NaN                  NaN NaN\\n28                                                                             NaN                                                                                                      # inside_significant_zone_count = 2      total_related_demand_from_internal zones = 7000                    NaN                                 NaN                 NaN                  NaN                  NaN                             NaN             NaN                NaN                  NaN NaN\\n29                                                                             NaN                                                                                                    # inside_insignificant_zone_count = 0         total_related_demand_from_internal zones = 0                    NaN                                 NaN                 NaN                  NaN                  NaN                             NaN             NaN                NaN                  NaN NaN\\n30                                                                             NaN                                                                                                        # related_external_zone_count = 0                          external related demand = 0                    NaN                                 NaN                 NaN                  NaN                  NaN                             NaN             NaN                NaN                  NaN NaN\\n31                                                                             NaN                                                                                # related_external_zone_count_with_significant_volume = 0                                                  NaN                    NaN                                 NaN                 NaN                  NaN                  NaN                             NaN             NaN                NaN                  NaN NaN\\n32                                              During the second stage of cut off                                                the cut off zone includes all inside zones along with significant external related zones.                                                  NaN                    NaN                                 NaN                 NaN                  NaN                  NaN                             NaN             NaN                NaN                  NaN NaN\\n33                                                                             NaN                                                                                                                  # cut off zone size = 2       total_related_demand_from_external_cutoff  = 0                    NaN                                 NaN                 NaN                  NaN                  NaN                             NaN             NaN                NaN                  NaN NaN\\n34                                                                             NaN  cut off volume threshold to determine significance = 0.External origin zones with a volume larger than this threshold will be retained.                                                  NaN                    NaN                                 NaN                 NaN                  NaN                  NaN                             NaN             NaN                NaN                  NaN NaN\\n35                                                                             NaN                                                                    remaining external related demand percentage after the cut off  = 0 %                                                  NaN                    NaN                                 NaN                 NaN                  NaN                  NaN                             NaN             NaN                NaN                  NaN NaN\\n36                                            [PROCESS INFO] Step 2.1: read demand                                                                                                         defined in demand_file_list.csv.                                                  NaN                    NaN                                 NaN                 NaN                  NaN                  NaN                             NaN             NaN                NaN                  NaN NaN\\n37                        [STATUS INFO] reading demand file for scenario index = 0                                                                                                                                      NaN                                                  NaN                    NaN                                 NaN                 NaN                  NaN                  NaN                             NaN             NaN                NaN                  NaN NaN\\n38                        [STATUS INFO] reading demand file for scenario index = 0                                                                                                                                      NaN                                                  NaN                    NaN                                 NaN                 NaN                  NaN                  NaN                             NaN             NaN                NaN                  NaN NaN\\n39                        [STATUS INFO] reading demand file for scenario index = 0                                                                                                                                      NaN                                                  NaN                    NaN                                 NaN                 NaN                  NaN                  NaN                             NaN             NaN                NaN                  NaN NaN\\n40                                                                             NaN                                                                                                  summary by multi-modal and demand types                                        demand_period              mode_type  total demmand volume in scenario 0          # of links   avg_free_speed_mph  avg_free_speed_kmph              total_length_in_km  total_capacity  avg_lane_capacity  avg_length_in_meter NaN\\n41                                                                             NaN                                                                                                                                      NaN                                                   am                   auto                                  70                   2                   60              96.5604                              30            6000               3000                15000 NaN\\n42                                                                             NaN                                                                                                                                      NaN                                                   am                   walk                                   7                   2                   60              96.5604                              30            6000               3000                15000 NaN\\n43                                                                             NaN                                                                                                                                      NaN                                                   am                   bike                                   7                   2                   60              96.5604                              30            6000               3000                15000 NaN\\n44                                                                             NaN                                                                                                                                from_flag                                              to_flag                 volume                                 NaN                 NaN                  NaN                  NaN                             NaN             NaN                NaN                  NaN NaN\\n45                                                                             NaN                                                                                                                                from_flag                                              to_flag                 volume                                 NaN                 NaN                  NaN                  NaN                             NaN             NaN                NaN                  NaN NaN\\n46                                FOCUSING internal step 1: Focus-subarea Approach                                                                                                                            0=not related   1=significantly related external but not in cutoff    2= cut-off external                           3= inside                 NaN                  NaN                  NaN                             NaN             NaN                NaN                  NaN NaN\\n47                                                                             NaN                                                                                                                                        0                                                    1                      2                                   3                 NaN                  NaN                  NaN                             NaN             NaN                NaN                  NaN NaN\\n48                                                                               0                                                                                                                                        0                                                    0                      0                                   0                 NaN                  NaN                  NaN                             NaN             NaN                NaN                  NaN NaN\\n49                                                                               1                                                                                                                                        0                                                    0                      0                                   0                 NaN                  NaN                  NaN                             NaN             NaN                NaN                  NaN NaN\\n50                                                                               2                                                                                                                                        0                                                    0                      0                                   0                 NaN                  NaN                  NaN                             NaN             NaN                NaN                  NaN NaN\\n51                                                                               3                                                                                                                                        0                                                    0                      0                               21000                 NaN                  NaN                  NaN                             NaN             NaN                NaN                  NaN NaN\\n52                          FOCUSING internal step 2: Origin-based flow extraction                                                                                                                                top 10 OD                                                 rank                      o                                   d       inside_flag_o        inside_flag_d            mode_type                  departure_time          volume                NaN                  NaN NaN\\n53                                                                             NaN                                                                                                                                      NaN                                                    1                      1                                   2                   3                    3                 auto                              am              70                NaN                  NaN NaN\\n54                                                                             NaN                                                                                                                                      NaN                                                    2                      1                                   2                   3                    3                 walk                              am               7                NaN                  NaN NaN\\n55                                                                             NaN                                                                                                                                      NaN                                                    3                      1                                   2                   3                    3                 bike                              am               7                NaN                  NaN NaN\\n56                  [PROCESS INFO]Step 4: Column Generation for Traffic Assignment                                                                                                                                      NaN                                                  NaN                    NaN                                 NaN                 NaN                  NaN                  NaN                             NaN             NaN                NaN                  NaN NaN\\n57                                                                             NaN                                                                                           Total number of column generation iterations =                                                   20                    NaN                                 NaN                 NaN                  NaN                  NaN                             NaN             NaN                NaN                  NaN NaN\\n58                                                                             NaN                                                                                           Total number of column generation iterations =                                                   20                    NaN                                 NaN                 NaN                  NaN                  NaN                             NaN             NaN                NaN                  NaN NaN\\n59                                                                             NaN                                                                                                  read dynamic traffic managementscenario                                                  NaN                    NaN                                 NaN                 NaN                  NaN                  NaN                             NaN             NaN                NaN                  NaN NaN\\n60                                                                             NaN                                                                             # of lane closure records in dynamic_traffic_management.csv=                                                    0                    NaN                                 NaN                 NaN                  NaN                  NaN                             NaN             NaN                NaN                  NaN NaN\\n61                                                                             NaN                                                                                      # of dms records in dynamic_traffic_management.csv=                                                    0                    NaN                                 NaN                 NaN                  NaN                  NaN                             NaN             NaN                NaN                  NaN NaN\\n62                                                           [DATA INFO] Iteration                                                                                                                   CPU running time (sec)                                          # of agents   Avg Travel Time(min)                        Avg UE gap %                 NaN                  NaN                  NaN                             NaN             NaN                NaN                  NaN NaN\\n63                                                                               0                                                                                                                                        0                                                   84                      0                                   0                 NaN                  NaN                  NaN                             NaN             NaN                NaN                  NaN NaN\\n64                                                                               1                                                                                                                                        0                                                   84                46.0055                           0.0120309                 NaN                  NaN                  NaN                             NaN             NaN                NaN                  NaN NaN\\n65                                                                               2                                                                                                                                        0                                                   84                46.0055                                   0                 NaN                  NaN                  NaN                             NaN             NaN                NaN                  NaN NaN\\n66                                                                               3                                                                                                                                        0                                                   84                46.0055                                   0                 NaN                  NaN                  NaN                             NaN             NaN                NaN                  NaN NaN\\n67                                                                               4                                                                                                                                        0                                                   84                46.0055                                   0                 NaN                  NaN                  NaN                             NaN             NaN                NaN                  NaN NaN\\n68                                                                               5                                                                                                                                        0                                                   84                46.0055                                   0                 NaN                  NaN                  NaN                             NaN             NaN                NaN                  NaN NaN\\n69                                                                               6                                                                                                                                        0                                                   84                46.0055                                   0                 NaN                  NaN                  NaN                             NaN             NaN                NaN                  NaN NaN\\n70                                                                               7                                                                                                                                        0                                                   84                46.0055                                   0                 NaN                  NaN                  NaN                             NaN             NaN                NaN                  NaN NaN\\n71                                                                               8                                                                                                                                        0                                                   84                46.0055                                   0                 NaN                  NaN                  NaN                             NaN             NaN                NaN                  NaN NaN\\n72                                                                               9                                                                                                                                        0                                                   84                46.0055                                   0                 NaN                  NaN                  NaN                             NaN             NaN                NaN                  NaN NaN\\n73                                                                              10                                                                                                                                        0                                                   84                46.0055                                   0                 NaN                  NaN                  NaN                             NaN             NaN                NaN                  NaN NaN\\n74                                                                              11                                                                                                                                        0                                                   84                46.0055                                   0                 NaN                  NaN                  NaN                             NaN             NaN                NaN                  NaN NaN\\n75                                                                              12                                                                                                                                        0                                                   84                46.0055                                   0                 NaN                  NaN                  NaN                             NaN             NaN                NaN                  NaN NaN\\n76                                                                              13                                                                                                                                        0                                                   84                46.0055                                   0                 NaN                  NaN                  NaN                             NaN             NaN                NaN                  NaN NaN\\n77                                                                              14                                                                                                                                        0                                                   84                46.0055                                   0                 NaN                  NaN                  NaN                             NaN             NaN                NaN                  NaN NaN\\n78                                                                              15                                                                                                                                        0                                                   84                46.0055                                   0                 NaN                  NaN                  NaN                             NaN             NaN                NaN                  NaN NaN\\n79                                                                              16                                                                                                                                        0                                                   84                46.0055                                   0                 NaN                  NaN                  NaN                             NaN             NaN                NaN                  NaN NaN\\n80                                                                              17                                                                                                                                        0                                                   84                46.0055                                   0                 NaN                  NaN                  NaN                             NaN             NaN                NaN                  NaN NaN\\n81                                                                              18                                                                                                                                        0                                                   84                46.0055                                   0                 NaN                  NaN                  NaN                             NaN             NaN                NaN                  NaN NaN\\n82                                                                              19                                                                                                                                        0                                                   84                46.0055                                   0                 NaN                  NaN                  NaN                             NaN             NaN                NaN                  NaN NaN\\n83  [PROCESS INFO] Step 5: column pool-based flow updating for traffic assignment                                                                                                                                       NaN                                                  NaN                    NaN                                 NaN                 NaN                  NaN                  NaN                             NaN             NaN                NaN                  NaN NaN\\n84                                                                             NaN                                                                                                           # of flow updating iterations=                                                   40                    NaN                                 NaN                 NaN                  NaN                  NaN                             NaN             NaN                NaN                  NaN NaN\\n85                                                                 column updating                                                                                                                                      NaN                                                  NaN                    NaN                                 NaN                 NaN                  NaN                  NaN                             NaN             NaN                NaN                  NaN NaN\\n86                                      [DATA INFO] column updating: iteration = 0                                                                                                           avg travel time = 46.0055(min)                                 optimization obj = 0     Relative_gap = 0 %                                 NaN                 NaN                  NaN                  NaN                             NaN             NaN                NaN                  NaN NaN\\n87                  [PROCESS INFO] Step 7: perform sensitivity analysis if dynamic                                                                                                                                      NaN                                                  NaN                    NaN                                 NaN                 NaN                  NaN                  NaN                             NaN             NaN                NaN                  NaN NaN'"
      ]
     },
     "metadata": {},
     "output_type": "display_data"
    }
   ],
   "source": [
    "display(data.to_string()) # You can take this approach if you want to see the full table, but it's rather unintuitive"
   ]
  },
  {
   "cell_type": "code",
   "execution_count": null,
   "id": "51886d3f",
   "metadata": {},
   "outputs": [],
   "source": []
  }
 ],
 "metadata": {
  "kernelspec": {
   "display_name": "Python 3 (ipykernel)",
   "language": "python",
   "name": "python3"
  },
  "language_info": {
   "codemirror_mode": {
    "name": "ipython",
    "version": 3
   },
   "file_extension": ".py",
   "mimetype": "text/x-python",
   "name": "python",
   "nbconvert_exporter": "python",
   "pygments_lexer": "ipython3",
   "version": "3.8.8"
  }
 },
 "nbformat": 4,
 "nbformat_minor": 5
}
