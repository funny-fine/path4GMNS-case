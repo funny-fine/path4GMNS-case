{
 "cells": [
  {
   "cell_type": "markdown",
   "id": "3d7da3fa",
   "metadata": {},
   "source": [
    "# Tutorial 6: ODME_node_link_demand\n",
    "\n",
    "This tutorial introduces you to the sixth dataset offered by DTALite, which shows the structure of sensor data and the result of ODME with it.\n",
    "The entire text will cover the following topics:\n",
    "* Network data: reading and presentation of core data files\n",
    "* The main programme: running the DTA module of path4gmns\n",
    "* Results: reading and analysing the output"
   ]
  },
  {
   "cell_type": "markdown",
   "id": "eeab670f",
   "metadata": {},
   "source": [
    "Before you start, make sure you have the following libraries installed and introduced into the programme:"
   ]
  },
  {
   "cell_type": "code",
   "execution_count": 1,
   "id": "a206d6b9",
   "metadata": {},
   "outputs": [
    {
     "name": "stdout",
     "output_type": "stream",
     "text": [
      "path4gmns, version 0.9.7\n"
     ]
    }
   ],
   "source": [
    "import pandas as pd\n",
    "import path4gmns as pg\n",
    "import networkx as nx\n",
    "import matplotlib.pyplot as plt\n",
    "import numpy as np\n",
    "import os"
   ]
  },
  {
   "cell_type": "markdown",
   "id": "5a3e558b",
   "metadata": {},
   "source": [
    "## 1. Network data\n",
    "Before proceeding with the path4GMNS-DTA, you can use pandas to read the input data, to see its format or to make changes as your actual requirements.<br>\n",
    "The following code reads the key input data as a demonstration.<br>"
   ]
  },
  {
   "cell_type": "code",
   "execution_count": 2,
   "id": "21c96f22",
   "metadata": {},
   "outputs": [],
   "source": [
    "mini_path = \"./06_ODME_node_link_demand/minimum_input/\"\n",
    "node = pd.read_csv(mini_path+'node.csv') \n",
    "link = pd.read_csv(mini_path+'link.csv')  \n",
    "demand = pd.read_csv(mini_path+'demand.csv')  #OD-demand\n",
    "sensor_data = pd.read_csv(mini_path+'sensor_data.csv') "
   ]
  },
  {
   "cell_type": "code",
   "execution_count": 3,
   "id": "7e5945f8",
   "metadata": {},
   "outputs": [
    {
     "data": {
      "text/html": [
       "<div>\n",
       "<style scoped>\n",
       "    .dataframe tbody tr th:only-of-type {\n",
       "        vertical-align: middle;\n",
       "    }\n",
       "\n",
       "    .dataframe tbody tr th {\n",
       "        vertical-align: top;\n",
       "    }\n",
       "\n",
       "    .dataframe thead th {\n",
       "        text-align: right;\n",
       "    }\n",
       "</style>\n",
       "<table border=\"1\" class=\"dataframe\">\n",
       "  <thead>\n",
       "    <tr style=\"text-align: right;\">\n",
       "      <th></th>\n",
       "      <th>node_id</th>\n",
       "      <th>x_coord</th>\n",
       "      <th>y_coord</th>\n",
       "      <th>zone_id</th>\n",
       "    </tr>\n",
       "  </thead>\n",
       "  <tbody>\n",
       "    <tr>\n",
       "      <th>0</th>\n",
       "      <td>1</td>\n",
       "      <td>0.0</td>\n",
       "      <td>-0.1</td>\n",
       "      <td>1</td>\n",
       "    </tr>\n",
       "    <tr>\n",
       "      <th>1</th>\n",
       "      <td>2</td>\n",
       "      <td>40.3</td>\n",
       "      <td>0.1</td>\n",
       "      <td>2</td>\n",
       "    </tr>\n",
       "    <tr>\n",
       "      <th>2</th>\n",
       "      <td>3</td>\n",
       "      <td>19.8</td>\n",
       "      <td>14.8</td>\n",
       "      <td>0</td>\n",
       "    </tr>\n",
       "    <tr>\n",
       "      <th>3</th>\n",
       "      <td>4</td>\n",
       "      <td>19.7</td>\n",
       "      <td>-9.7</td>\n",
       "      <td>0</td>\n",
       "    </tr>\n",
       "  </tbody>\n",
       "</table>\n",
       "</div>"
      ],
      "text/plain": [
       "   node_id  x_coord  y_coord  zone_id\n",
       "0        1      0.0     -0.1        1\n",
       "1        2     40.3      0.1        2\n",
       "2        3     19.8     14.8        0\n",
       "3        4     19.7     -9.7        0"
      ]
     },
     "execution_count": 3,
     "metadata": {},
     "output_type": "execute_result"
    }
   ],
   "source": [
    "node"
   ]
  },
  {
   "cell_type": "code",
   "execution_count": 4,
   "id": "022886d6",
   "metadata": {},
   "outputs": [
    {
     "data": {
      "text/html": [
       "<div>\n",
       "<style scoped>\n",
       "    .dataframe tbody tr th:only-of-type {\n",
       "        vertical-align: middle;\n",
       "    }\n",
       "\n",
       "    .dataframe tbody tr th {\n",
       "        vertical-align: top;\n",
       "    }\n",
       "\n",
       "    .dataframe thead th {\n",
       "        text-align: right;\n",
       "    }\n",
       "</style>\n",
       "<table border=\"1\" class=\"dataframe\">\n",
       "  <thead>\n",
       "    <tr style=\"text-align: right;\">\n",
       "      <th></th>\n",
       "      <th>link_id</th>\n",
       "      <th>from_node_id</th>\n",
       "      <th>to_node_id</th>\n",
       "      <th>link_type</th>\n",
       "      <th>dir_flag</th>\n",
       "      <th>length</th>\n",
       "      <th>lanes</th>\n",
       "      <th>free_speed</th>\n",
       "      <th>capacity</th>\n",
       "    </tr>\n",
       "  </thead>\n",
       "  <tbody>\n",
       "    <tr>\n",
       "      <th>0</th>\n",
       "      <td>3</td>\n",
       "      <td>1</td>\n",
       "      <td>4</td>\n",
       "      <td>2</td>\n",
       "      <td>1</td>\n",
       "      <td>15000</td>\n",
       "      <td>1</td>\n",
       "      <td>60</td>\n",
       "      <td>3000</td>\n",
       "    </tr>\n",
       "    <tr>\n",
       "      <th>1</th>\n",
       "      <td>4</td>\n",
       "      <td>4</td>\n",
       "      <td>2</td>\n",
       "      <td>2</td>\n",
       "      <td>1</td>\n",
       "      <td>15000</td>\n",
       "      <td>1</td>\n",
       "      <td>60</td>\n",
       "      <td>3000</td>\n",
       "    </tr>\n",
       "    <tr>\n",
       "      <th>2</th>\n",
       "      <td>1</td>\n",
       "      <td>1</td>\n",
       "      <td>3</td>\n",
       "      <td>1</td>\n",
       "      <td>1</td>\n",
       "      <td>10000</td>\n",
       "      <td>1</td>\n",
       "      <td>60</td>\n",
       "      <td>4000</td>\n",
       "    </tr>\n",
       "    <tr>\n",
       "      <th>3</th>\n",
       "      <td>2</td>\n",
       "      <td>3</td>\n",
       "      <td>2</td>\n",
       "      <td>1</td>\n",
       "      <td>1</td>\n",
       "      <td>10000</td>\n",
       "      <td>1</td>\n",
       "      <td>60</td>\n",
       "      <td>4000</td>\n",
       "    </tr>\n",
       "  </tbody>\n",
       "</table>\n",
       "</div>"
      ],
      "text/plain": [
       "   link_id  from_node_id  to_node_id  link_type  dir_flag  length  lanes  \\\n",
       "0        3             1           4          2         1   15000      1   \n",
       "1        4             4           2          2         1   15000      1   \n",
       "2        1             1           3          1         1   10000      1   \n",
       "3        2             3           2          1         1   10000      1   \n",
       "\n",
       "   free_speed  capacity  \n",
       "0          60      3000  \n",
       "1          60      3000  \n",
       "2          60      4000  \n",
       "3          60      4000  "
      ]
     },
     "execution_count": 4,
     "metadata": {},
     "output_type": "execute_result"
    }
   ],
   "source": [
    "link"
   ]
  },
  {
   "cell_type": "code",
   "execution_count": 5,
   "id": "adde50e5",
   "metadata": {},
   "outputs": [
    {
     "data": {
      "text/html": [
       "<div>\n",
       "<style scoped>\n",
       "    .dataframe tbody tr th:only-of-type {\n",
       "        vertical-align: middle;\n",
       "    }\n",
       "\n",
       "    .dataframe tbody tr th {\n",
       "        vertical-align: top;\n",
       "    }\n",
       "\n",
       "    .dataframe thead th {\n",
       "        text-align: right;\n",
       "    }\n",
       "</style>\n",
       "<table border=\"1\" class=\"dataframe\">\n",
       "  <thead>\n",
       "    <tr style=\"text-align: right;\">\n",
       "      <th></th>\n",
       "      <th>o_zone_id</th>\n",
       "      <th>d_zone_id</th>\n",
       "      <th>volume</th>\n",
       "    </tr>\n",
       "  </thead>\n",
       "  <tbody>\n",
       "    <tr>\n",
       "      <th>0</th>\n",
       "      <td>1</td>\n",
       "      <td>2</td>\n",
       "      <td>7000</td>\n",
       "    </tr>\n",
       "  </tbody>\n",
       "</table>\n",
       "</div>"
      ],
      "text/plain": [
       "   o_zone_id  d_zone_id  volume\n",
       "0          1          2    7000"
      ]
     },
     "execution_count": 5,
     "metadata": {},
     "output_type": "execute_result"
    }
   ],
   "source": [
    "demand"
   ]
  },
  {
   "cell_type": "markdown",
   "id": "e9a75f69",
   "metadata": {},
   "source": [
    "<br>\n",
    "The file of sensor data provides important information about the measurement sensor, node connections, scenario index, traffic counts, capacity, and data usability. They are crucial for the accurate processing and analysis of the Origin-Destination Matrix Estimation (ODME) and transportation modeling.<br>\n",
    "\n",
    "The **count** is the observed period volume of the link in the k-th period. And the **activate** indicates the usability of the data(1 means that sensor_data will be used in the ODME  process, and 0 means it will be ignored).<br>\n",
    "\n",
    "For more details, please check [the user-guide doc of DTALite](https://github.com/asu-trans-ai-lab/DTALite/tree/main/docs/user_guide)."
   ]
  },
  {
   "cell_type": "code",
   "execution_count": 6,
   "id": "db28cdf9",
   "metadata": {},
   "outputs": [
    {
     "data": {
      "text/html": [
       "<div>\n",
       "<style scoped>\n",
       "    .dataframe tbody tr th:only-of-type {\n",
       "        vertical-align: middle;\n",
       "    }\n",
       "\n",
       "    .dataframe tbody tr th {\n",
       "        vertical-align: top;\n",
       "    }\n",
       "\n",
       "    .dataframe thead th {\n",
       "        text-align: right;\n",
       "    }\n",
       "</style>\n",
       "<table border=\"1\" class=\"dataframe\">\n",
       "  <thead>\n",
       "    <tr style=\"text-align: right;\">\n",
       "      <th></th>\n",
       "      <th>sensor_id</th>\n",
       "      <th>from_node_id</th>\n",
       "      <th>to_node_id</th>\n",
       "      <th>demand_period</th>\n",
       "      <th>count</th>\n",
       "      <th>scenario_index</th>\n",
       "      <th>activate</th>\n",
       "    </tr>\n",
       "  </thead>\n",
       "  <tbody>\n",
       "    <tr>\n",
       "      <th>0</th>\n",
       "      <td>1</td>\n",
       "      <td>1</td>\n",
       "      <td>4</td>\n",
       "      <td>am</td>\n",
       "      <td>1000</td>\n",
       "      <td>0</td>\n",
       "      <td>1</td>\n",
       "    </tr>\n",
       "  </tbody>\n",
       "</table>\n",
       "</div>"
      ],
      "text/plain": [
       "   sensor_id  from_node_id  to_node_id demand_period  count  scenario_index  \\\n",
       "0          1             1           4            am   1000               0   \n",
       "\n",
       "   activate  \n",
       "0         1  "
      ]
     },
     "execution_count": 6,
     "metadata": {},
     "output_type": "execute_result"
    }
   ],
   "source": [
    "sensor_data"
   ]
  },
  {
   "cell_type": "markdown",
   "id": "25391ca3",
   "metadata": {},
   "source": [
    "The following code plots the read road network data into a network diagram to visualise this road network:"
   ]
  },
  {
   "cell_type": "code",
   "execution_count": 7,
   "id": "76e38bd2",
   "metadata": {},
   "outputs": [],
   "source": [
    "gnode = list(node['node_id'])\n",
    "glink = list(zip(link['from_node_id'],link['to_node_id']))\n",
    "G = nx.DiGraph()           # grapgh object\n",
    "G.add_nodes_from(gnode)\n",
    "G.add_edges_from(glink)"
   ]
  },
  {
   "cell_type": "code",
   "execution_count": 8,
   "id": "b7730cd5",
   "metadata": {},
   "outputs": [
    {
     "data": {
      "image/png": "[encoded data removed]",
      "text/plain": [
       "<Figure size 640x480 with 1 Axes>"
      ]
     },
     "metadata": {},
     "output_type": "display_data"
    }
   ],
   "source": [
    "coordinates = np.array(list(zip(node['x_coord'],node['y_coord'])))\n",
    "npos = dict(zip(gnode,coordinates))  # Get the mapping relationship between nodes and coordinates, represented as a dictionary\n",
    "nlabels = dict(zip(gnode, gnode))\n",
    "\n",
    "nx.draw_networkx_nodes(G, npos, node_color=\"lightblue\")  # draw the nodes\n",
    "nx.draw_networkx_edges(G, npos, glink)  # draw the edges(links)\n",
    "nx.draw_networkx_labels(G, npos, nlabels)  # add labels\n",
    "\n",
    "str_cap = [\"cap:\"+ str('%.1f'% i) for i in list(link['capacity'])]\n",
    "edge_labels = dict(zip(glink, str_cap))\n",
    "\n",
    "nx.draw_networkx_edge_labels(G, npos, edge_labels) # show the capacity\n",
    "\n",
    "plt.rcParams['figure.figsize']= (4, 3) "
   ]
  },
  {
   "cell_type": "markdown",
   "id": "1202eceb",
   "metadata": {},
   "source": [
    "This network contains 4 nodes and 4 links, and the traffic demand from origin (node 1) to destination (node 2) is 7000."
   ]
  },
  {
   "cell_type": "markdown",
   "id": "6032c030",
   "metadata": {},
   "source": [
    "## 2.The main programme\n",
    "After preparing the data, you can run the DTA module of path4GMNS, which is called in a very simple way as shown below.<br>"
   ]
  },
  {
   "cell_type": "code",
   "execution_count": 9,
   "id": "117924fc",
   "metadata": {},
   "outputs": [
    {
     "name": "stdout",
     "output_type": "stream",
     "text": [
      "C:\\Users\\Lenovo\\path4GMNS_tutorial\\06_ODME_node_link_demand\\minimum_input\n"
     ]
    }
   ],
   "source": [
    "cd .\\06_ODME_node_link_demand\\minimum_input"
   ]
  },
  {
   "cell_type": "code",
   "execution_count": 10,
   "id": "3a9b2771",
   "metadata": {},
   "outputs": [
    {
     "name": "stdout",
     "output_type": "stream",
     "text": [
      "\n",
      "DTALite run starts\n",
      "\n",
      "DTALite run completes!\n"
     ]
    }
   ],
   "source": [
    "pg.run_DTALite()"
   ]
  },
  {
   "cell_type": "code",
   "execution_count": 11,
   "id": "57d22faa",
   "metadata": {},
   "outputs": [
    {
     "name": "stdout",
     "output_type": "stream",
     "text": [
      "C:\\Users\\Lenovo\\path4GMNS_tutorial\\06_ODME_node_link_demand\\minimum_input\n"
     ]
    }
   ],
   "source": [
    "!cd"
   ]
  },
  {
   "cell_type": "markdown",
   "id": "ce3c1f33",
   "metadata": {},
   "source": [
    "You can ensure that the program is running correctly by outputting a list of files in the current directory (the directory where pg.dtaapi.run_DTALite is running) and comparing it to the reference output provided by the DTA-user-guide documentation."
   ]
  },
  {
   "cell_type": "code",
   "execution_count": 12,
   "id": "7922031f",
   "metadata": {},
   "outputs": [
    {
     "data": {
      "text/plain": [
       "['choice_set_output_0_25nb.csv',\n",
       " 'demand.csv',\n",
       " 'demand_file_list.csv',\n",
       " 'demand_period.csv',\n",
       " 'departure_time_profile.csv',\n",
       " 'district_performance_s0_25nb.csv',\n",
       " 'dynamic_traffic_management.csv',\n",
       " 'final_summary.csv',\n",
       " 'link.csv',\n",
       " 'link_performance_s0_25nb.csv',\n",
       " 'link_performance_summary.csv',\n",
       " 'link_performance_summary_2way.csv',\n",
       " 'link_type.csv',\n",
       " 'log_DTA.txt',\n",
       " 'log_label_correcting.txt',\n",
       " 'log_main.txt',\n",
       " 'log_scenario.txt',\n",
       " 'log_shortest_path_tree.csv',\n",
       " 'log_simulation.txt',\n",
       " 'log_subarea_focusing.txt',\n",
       " 'log_traffic_assignment.csv',\n",
       " 'model_link.csv',\n",
       " 'model_node.csv',\n",
       " 'mode_type.csv',\n",
       " 'node.csv',\n",
       " 'od_performance_summary.csv',\n",
       " 'route_assignment_s0_25nb.csv',\n",
       " 'scenario_index_list.csv',\n",
       " 'sensor_data.csv',\n",
       " 'settings.csv',\n",
       " 'subarea.csv',\n",
       " 'system_performance_summary.csv',\n",
       " 'zonal_hierarchy_mapping.csv']"
      ]
     },
     "execution_count": 12,
     "metadata": {},
     "output_type": "execute_result"
    }
   ],
   "source": [
    "files = os.listdir('.')\n",
    "files"
   ]
  },
  {
   "cell_type": "markdown",
   "id": "5ddab34b",
   "metadata": {},
   "source": [
    "## 3.Results\n",
    "### a. Route assignment results\n",
    "This result is output by the programme in route_assignment_[scenarioname].csv. This part presents the feasible routes between the OD pairs, the traffic assignment of each route after DTA, and other data such as route passing time."
   ]
  },
  {
   "cell_type": "code",
   "execution_count": 13,
   "id": "b63d182f",
   "metadata": {},
   "outputs": [
    {
     "data": {
      "text/html": [
       "<div>\n",
       "<style scoped>\n",
       "    .dataframe tbody tr th:only-of-type {\n",
       "        vertical-align: middle;\n",
       "    }\n",
       "\n",
       "    .dataframe tbody tr th {\n",
       "        vertical-align: top;\n",
       "    }\n",
       "\n",
       "    .dataframe thead th {\n",
       "        text-align: right;\n",
       "    }\n",
       "</style>\n",
       "<table border=\"1\" class=\"dataframe\">\n",
       "  <thead>\n",
       "    <tr style=\"text-align: right;\">\n",
       "      <th></th>\n",
       "      <th>first_column</th>\n",
       "      <th>route_seq_id</th>\n",
       "      <th>o_zone_id</th>\n",
       "      <th>d_zone_id</th>\n",
       "      <th>o_super_zone_index</th>\n",
       "      <th>d_super_zone_index</th>\n",
       "      <th>od_pair_key</th>\n",
       "      <th>information_type</th>\n",
       "      <th>mode_type</th>\n",
       "      <th>demand_period</th>\n",
       "      <th>...</th>\n",
       "      <th>sequential_link_delay</th>\n",
       "      <th>sequential_link_FFTT</th>\n",
       "      <th>DTM_OD_impact</th>\n",
       "      <th>DTM_path_impact</th>\n",
       "      <th>DTM_#_of_lane_closure_links</th>\n",
       "      <th>DTM_new_path_generated</th>\n",
       "      <th>DTM_volume_before</th>\n",
       "      <th>DTM_volume_after</th>\n",
       "      <th>DTM_volume_diff</th>\n",
       "      <th></th>\n",
       "    </tr>\n",
       "  </thead>\n",
       "  <tbody>\n",
       "    <tr>\n",
       "      <th>NaN</th>\n",
       "      <td>1</td>\n",
       "      <td>1</td>\n",
       "      <td>2</td>\n",
       "      <td>0</td>\n",
       "      <td>1</td>\n",
       "      <td>1-&gt;2</td>\n",
       "      <td>0</td>\n",
       "      <td>auto</td>\n",
       "      <td>am</td>\n",
       "      <td>1015.7193</td>\n",
       "      <td>...</td>\n",
       "      <td>15.000;15.000;</td>\n",
       "      <td>0</td>\n",
       "      <td>NaN</td>\n",
       "      <td>NaN</td>\n",
       "      <td>NaN</td>\n",
       "      <td>NaN</td>\n",
       "      <td>NaN</td>\n",
       "      <td>NaN</td>\n",
       "      <td>NaN</td>\n",
       "      <td>NaN</td>\n",
       "    </tr>\n",
       "    <tr>\n",
       "      <th>NaN</th>\n",
       "      <td>2</td>\n",
       "      <td>1</td>\n",
       "      <td>2</td>\n",
       "      <td>0</td>\n",
       "      <td>1</td>\n",
       "      <td>1-&gt;2</td>\n",
       "      <td>0</td>\n",
       "      <td>auto</td>\n",
       "      <td>am</td>\n",
       "      <td>5443.5092</td>\n",
       "      <td>...</td>\n",
       "      <td>10.000;10.000;</td>\n",
       "      <td>0</td>\n",
       "      <td>NaN</td>\n",
       "      <td>NaN</td>\n",
       "      <td>NaN</td>\n",
       "      <td>NaN</td>\n",
       "      <td>NaN</td>\n",
       "      <td>NaN</td>\n",
       "      <td>NaN</td>\n",
       "      <td>NaN</td>\n",
       "    </tr>\n",
       "  </tbody>\n",
       "</table>\n",
       "<p>2 rows × 41 columns</p>\n",
       "</div>"
      ],
      "text/plain": [
       "     first_column  route_seq_id  o_zone_id  d_zone_id  o_super_zone_index  \\\n",
       "NaN             1             1          2          0                   1   \n",
       "NaN             2             1          2          0                   1   \n",
       "\n",
       "    d_super_zone_index  od_pair_key information_type mode_type  demand_period  \\\n",
       "NaN               1->2            0             auto        am      1015.7193   \n",
       "NaN               1->2            0             auto        am      5443.5092   \n",
       "\n",
       "     ...  sequential_link_delay  sequential_link_FFTT  DTM_OD_impact  \\\n",
       "NaN  ...         15.000;15.000;                     0            NaN   \n",
       "NaN  ...         10.000;10.000;                     0            NaN   \n",
       "\n",
       "     DTM_path_impact  DTM_#_of_lane_closure_links  DTM_new_path_generated  \\\n",
       "NaN              NaN                          NaN                     NaN   \n",
       "NaN              NaN                          NaN                     NaN   \n",
       "\n",
       "     DTM_volume_before  DTM_volume_after  DTM_volume_diff      \n",
       "NaN                NaN               NaN              NaN NaN  \n",
       "NaN                NaN               NaN              NaN NaN  \n",
       "\n",
       "[2 rows x 41 columns]"
      ]
     },
     "execution_count": 13,
     "metadata": {},
     "output_type": "execute_result"
    }
   ],
   "source": [
    "route_assignment = pd.read_csv('route_assignment_s0_25nb.csv')\n",
    "route_assignment"
   ]
  },
  {
   "cell_type": "code",
   "execution_count": 14,
   "id": "74dc381c",
   "metadata": {},
   "outputs": [],
   "source": [
    "# The original document has a line first_column, which will cause data misalignment merger\n",
    "# Here is to fix the problem of misalignment\n",
    "col=list(route_assignment.columns)\n",
    "col.remove('first_column')\n",
    "col.append('last')\n",
    "dic=dict(zip(list(route_assignment.columns),col))\n",
    "route=route_assignment.rename(columns=dic)"
   ]
  },
  {
   "cell_type": "markdown",
   "id": "04b3afb8",
   "metadata": {},
   "source": [
    "Corrected route result:"
   ]
  },
  {
   "cell_type": "code",
   "execution_count": 15,
   "id": "3f88a167",
   "metadata": {},
   "outputs": [
    {
     "data": {
      "text/html": [
       "<div>\n",
       "<style scoped>\n",
       "    .dataframe tbody tr th:only-of-type {\n",
       "        vertical-align: middle;\n",
       "    }\n",
       "\n",
       "    .dataframe tbody tr th {\n",
       "        vertical-align: top;\n",
       "    }\n",
       "\n",
       "    .dataframe thead th {\n",
       "        text-align: right;\n",
       "    }\n",
       "</style>\n",
       "<table border=\"1\" class=\"dataframe\">\n",
       "  <thead>\n",
       "    <tr style=\"text-align: right;\">\n",
       "      <th></th>\n",
       "      <th>route_seq_id</th>\n",
       "      <th>o_zone_id</th>\n",
       "      <th>d_zone_id</th>\n",
       "      <th>o_super_zone_index</th>\n",
       "      <th>d_super_zone_index</th>\n",
       "      <th>od_pair_key</th>\n",
       "      <th>information_type</th>\n",
       "      <th>mode_type</th>\n",
       "      <th>demand_period</th>\n",
       "      <th>volume</th>\n",
       "      <th>...</th>\n",
       "      <th>sequential_link_FFTT</th>\n",
       "      <th>DTM_OD_impact</th>\n",
       "      <th>DTM_path_impact</th>\n",
       "      <th>DTM_#_of_lane_closure_links</th>\n",
       "      <th>DTM_new_path_generated</th>\n",
       "      <th>DTM_volume_before</th>\n",
       "      <th>DTM_volume_after</th>\n",
       "      <th>DTM_volume_diff</th>\n",
       "      <th></th>\n",
       "      <th>last</th>\n",
       "    </tr>\n",
       "  </thead>\n",
       "  <tbody>\n",
       "    <tr>\n",
       "      <th>NaN</th>\n",
       "      <td>1</td>\n",
       "      <td>1</td>\n",
       "      <td>2</td>\n",
       "      <td>0</td>\n",
       "      <td>1</td>\n",
       "      <td>1-&gt;2</td>\n",
       "      <td>0</td>\n",
       "      <td>auto</td>\n",
       "      <td>am</td>\n",
       "      <td>1015.7193</td>\n",
       "      <td>...</td>\n",
       "      <td>15.000;15.000;</td>\n",
       "      <td>0</td>\n",
       "      <td>NaN</td>\n",
       "      <td>NaN</td>\n",
       "      <td>NaN</td>\n",
       "      <td>NaN</td>\n",
       "      <td>NaN</td>\n",
       "      <td>NaN</td>\n",
       "      <td>NaN</td>\n",
       "      <td>NaN</td>\n",
       "    </tr>\n",
       "    <tr>\n",
       "      <th>NaN</th>\n",
       "      <td>2</td>\n",
       "      <td>1</td>\n",
       "      <td>2</td>\n",
       "      <td>0</td>\n",
       "      <td>1</td>\n",
       "      <td>1-&gt;2</td>\n",
       "      <td>0</td>\n",
       "      <td>auto</td>\n",
       "      <td>am</td>\n",
       "      <td>5443.5092</td>\n",
       "      <td>...</td>\n",
       "      <td>10.000;10.000;</td>\n",
       "      <td>0</td>\n",
       "      <td>NaN</td>\n",
       "      <td>NaN</td>\n",
       "      <td>NaN</td>\n",
       "      <td>NaN</td>\n",
       "      <td>NaN</td>\n",
       "      <td>NaN</td>\n",
       "      <td>NaN</td>\n",
       "      <td>NaN</td>\n",
       "    </tr>\n",
       "  </tbody>\n",
       "</table>\n",
       "<p>2 rows × 41 columns</p>\n",
       "</div>"
      ],
      "text/plain": [
       "     route_seq_id  o_zone_id  d_zone_id  o_super_zone_index  \\\n",
       "NaN             1          1          2                   0   \n",
       "NaN             2          1          2                   0   \n",
       "\n",
       "     d_super_zone_index od_pair_key  information_type mode_type demand_period  \\\n",
       "NaN                   1        1->2                 0      auto            am   \n",
       "NaN                   1        1->2                 0      auto            am   \n",
       "\n",
       "        volume  ...  sequential_link_FFTT  DTM_OD_impact  DTM_path_impact  \\\n",
       "NaN  1015.7193  ...        15.000;15.000;              0              NaN   \n",
       "NaN  5443.5092  ...        10.000;10.000;              0              NaN   \n",
       "\n",
       "     DTM_#_of_lane_closure_links  DTM_new_path_generated  DTM_volume_before  \\\n",
       "NaN                          NaN                     NaN                NaN   \n",
       "NaN                          NaN                     NaN                NaN   \n",
       "\n",
       "     DTM_volume_after  DTM_volume_diff      last  \n",
       "NaN               NaN              NaN NaN   NaN  \n",
       "NaN               NaN              NaN NaN   NaN  \n",
       "\n",
       "[2 rows x 41 columns]"
      ]
     },
     "execution_count": 15,
     "metadata": {},
     "output_type": "execute_result"
    }
   ],
   "source": [
    "route"
   ]
  },
  {
   "cell_type": "markdown",
   "id": "9c6d556e",
   "metadata": {},
   "source": [
    "Filter the data by column name to see the more intuitive and critical part of the route results. "
   ]
  },
  {
   "cell_type": "code",
   "execution_count": 16,
   "id": "7d2a707b",
   "metadata": {},
   "outputs": [
    {
     "data": {
      "text/html": [
       "<div>\n",
       "<style scoped>\n",
       "    .dataframe tbody tr th:only-of-type {\n",
       "        vertical-align: middle;\n",
       "    }\n",
       "\n",
       "    .dataframe tbody tr th {\n",
       "        vertical-align: top;\n",
       "    }\n",
       "\n",
       "    .dataframe thead th {\n",
       "        text-align: right;\n",
       "    }\n",
       "</style>\n",
       "<table border=\"1\" class=\"dataframe\">\n",
       "  <thead>\n",
       "    <tr style=\"text-align: right;\">\n",
       "      <th></th>\n",
       "      <th>route_seq_id</th>\n",
       "      <th>od_pair_key</th>\n",
       "      <th>mode_type</th>\n",
       "      <th>volume</th>\n",
       "      <th>travel_time</th>\n",
       "      <th>node_sequence</th>\n",
       "      <th>link_id_sequence</th>\n",
       "      <th>ODME_volume_before</th>\n",
       "      <th>ODME_volume_after</th>\n",
       "      <th>ODME_volume_diff</th>\n",
       "    </tr>\n",
       "  </thead>\n",
       "  <tbody>\n",
       "    <tr>\n",
       "      <th>NaN</th>\n",
       "      <td>1</td>\n",
       "      <td>1-&gt;2</td>\n",
       "      <td>auto</td>\n",
       "      <td>1015.7193</td>\n",
       "      <td>30.0591</td>\n",
       "      <td>1;4;2;</td>\n",
       "      <td>3;4;</td>\n",
       "      <td>1556.4909</td>\n",
       "      <td>1015.7193</td>\n",
       "      <td>-540.7716</td>\n",
       "    </tr>\n",
       "    <tr>\n",
       "      <th>NaN</th>\n",
       "      <td>2</td>\n",
       "      <td>1-&gt;2</td>\n",
       "      <td>auto</td>\n",
       "      <td>5443.5092</td>\n",
       "      <td>30.2896</td>\n",
       "      <td>1;3;2;</td>\n",
       "      <td>1;2;</td>\n",
       "      <td>5443.5092</td>\n",
       "      <td>5443.5092</td>\n",
       "      <td>0.0000</td>\n",
       "    </tr>\n",
       "  </tbody>\n",
       "</table>\n",
       "</div>"
      ],
      "text/plain": [
       "     route_seq_id od_pair_key mode_type     volume  travel_time node_sequence  \\\n",
       "NaN             1        1->2      auto  1015.7193      30.0591        1;4;2;   \n",
       "NaN             2        1->2      auto  5443.5092      30.2896        1;3;2;   \n",
       "\n",
       "    link_id_sequence  ODME_volume_before  ODME_volume_after  ODME_volume_diff  \n",
       "NaN             3;4;           1556.4909          1015.7193         -540.7716  \n",
       "NaN             1;2;           5443.5092          5443.5092            0.0000  "
      ]
     },
     "execution_count": 16,
     "metadata": {},
     "output_type": "execute_result"
    }
   ],
   "source": [
    "route[['route_seq_id','od_pair_key','mode_type','volume','travel_time','node_sequence','link_id_sequence','ODME_volume_before','ODME_volume_after','ODME_volume_diff']]"
   ]
  },
  {
   "cell_type": "markdown",
   "id": "4ee8db73",
   "metadata": {},
   "source": [
    "**EXAMPLE：** <br>\n",
    "You can organise the results of the route flow assignment into py-dictionary so that you can see all feasible routes. The following dictionary structure has a structure like \"index - path nodes\", but you can organise the data in other ways as you need."
   ]
  },
  {
   "cell_type": "code",
   "execution_count": 17,
   "id": "3af217ca",
   "metadata": {},
   "outputs": [
    {
     "data": {
      "text/plain": [
       "{1: '1;4;2;', 2: '1;3;2;'}"
      ]
     },
     "execution_count": 17,
     "metadata": {},
     "output_type": "execute_result"
    }
   ],
   "source": [
    "route_dict = dict(zip(list(route['route_seq_id']),list(route['node_sequence'])))\n",
    "route_dict"
   ]
  },
  {
   "cell_type": "markdown",
   "id": "31445e94",
   "metadata": {},
   "source": [
    "### b. Link assignment results\n",
    "This result is output by the program in link_assignment_[scenarioname].csv, presenting the assignment on the link."
   ]
  },
  {
   "cell_type": "code",
   "execution_count": 18,
   "id": "1fa4b132",
   "metadata": {},
   "outputs": [
    {
     "data": {
      "text/html": [
       "<div>\n",
       "<style scoped>\n",
       "    .dataframe tbody tr th:only-of-type {\n",
       "        vertical-align: middle;\n",
       "    }\n",
       "\n",
       "    .dataframe tbody tr th {\n",
       "        vertical-align: top;\n",
       "    }\n",
       "\n",
       "    .dataframe thead th {\n",
       "        text-align: right;\n",
       "    }\n",
       "</style>\n",
       "<table border=\"1\" class=\"dataframe\">\n",
       "  <thead>\n",
       "    <tr style=\"text-align: right;\">\n",
       "      <th></th>\n",
       "      <th>link_seq_id</th>\n",
       "      <th>link_id</th>\n",
       "      <th>vdf_type</th>\n",
       "      <th>from_node_id</th>\n",
       "      <th>to_node_id</th>\n",
       "      <th>lanes</th>\n",
       "      <th>distance_km</th>\n",
       "      <th>distance_mile</th>\n",
       "      <th>fftt</th>\n",
       "      <th>meso_link_id</th>\n",
       "      <th>...</th>\n",
       "      <th>DTM_speed_before</th>\n",
       "      <th>DTM_speed_after</th>\n",
       "      <th>DTM_speed_diff</th>\n",
       "      <th>DTM_DoC_before</th>\n",
       "      <th>DTM_DoC_after</th>\n",
       "      <th>DTM_Doc_diff</th>\n",
       "      <th>DTM_P_before</th>\n",
       "      <th>DTM_P_after</th>\n",
       "      <th>DTM_P_diff</th>\n",
       "      <th>notes</th>\n",
       "    </tr>\n",
       "  </thead>\n",
       "  <tbody>\n",
       "    <tr>\n",
       "      <th>0</th>\n",
       "      <td>1</td>\n",
       "      <td>3</td>\n",
       "      <td>bpr</td>\n",
       "      <td>1</td>\n",
       "      <td>4</td>\n",
       "      <td>1.0</td>\n",
       "      <td>15.0</td>\n",
       "      <td>9.322561</td>\n",
       "      <td>15.0</td>\n",
       "      <td>-1</td>\n",
       "      <td>...</td>\n",
       "      <td>59.882</td>\n",
       "      <td>0.0</td>\n",
       "      <td>-59.882</td>\n",
       "      <td>0.339</td>\n",
       "      <td>0.0</td>\n",
       "      <td>-0.339</td>\n",
       "      <td>0.013</td>\n",
       "      <td>0.0</td>\n",
       "      <td>-0.013</td>\n",
       "      <td>period-based</td>\n",
       "    </tr>\n",
       "    <tr>\n",
       "      <th>1</th>\n",
       "      <td>2</td>\n",
       "      <td>4</td>\n",
       "      <td>bpr</td>\n",
       "      <td>4</td>\n",
       "      <td>2</td>\n",
       "      <td>1.0</td>\n",
       "      <td>15.0</td>\n",
       "      <td>9.322561</td>\n",
       "      <td>15.0</td>\n",
       "      <td>-1</td>\n",
       "      <td>...</td>\n",
       "      <td>59.882</td>\n",
       "      <td>0.0</td>\n",
       "      <td>-59.882</td>\n",
       "      <td>0.339</td>\n",
       "      <td>0.0</td>\n",
       "      <td>-0.339</td>\n",
       "      <td>0.013</td>\n",
       "      <td>0.0</td>\n",
       "      <td>-0.013</td>\n",
       "      <td>period-based</td>\n",
       "    </tr>\n",
       "    <tr>\n",
       "      <th>2</th>\n",
       "      <td>3</td>\n",
       "      <td>1</td>\n",
       "      <td>bpr</td>\n",
       "      <td>1</td>\n",
       "      <td>3</td>\n",
       "      <td>1.0</td>\n",
       "      <td>10.0</td>\n",
       "      <td>6.215040</td>\n",
       "      <td>10.0</td>\n",
       "      <td>-1</td>\n",
       "      <td>...</td>\n",
       "      <td>39.618</td>\n",
       "      <td>0.0</td>\n",
       "      <td>-39.618</td>\n",
       "      <td>1.361</td>\n",
       "      <td>0.0</td>\n",
       "      <td>-1.361</td>\n",
       "      <td>1.358</td>\n",
       "      <td>0.0</td>\n",
       "      <td>-1.358</td>\n",
       "      <td>period-based</td>\n",
       "    </tr>\n",
       "    <tr>\n",
       "      <th>3</th>\n",
       "      <td>4</td>\n",
       "      <td>2</td>\n",
       "      <td>bpr</td>\n",
       "      <td>3</td>\n",
       "      <td>2</td>\n",
       "      <td>1.0</td>\n",
       "      <td>10.0</td>\n",
       "      <td>6.215040</td>\n",
       "      <td>10.0</td>\n",
       "      <td>-1</td>\n",
       "      <td>...</td>\n",
       "      <td>39.618</td>\n",
       "      <td>0.0</td>\n",
       "      <td>-39.618</td>\n",
       "      <td>1.361</td>\n",
       "      <td>0.0</td>\n",
       "      <td>-1.361</td>\n",
       "      <td>1.358</td>\n",
       "      <td>0.0</td>\n",
       "      <td>-1.358</td>\n",
       "      <td>period-based</td>\n",
       "    </tr>\n",
       "  </tbody>\n",
       "</table>\n",
       "<p>4 rows × 140 columns</p>\n",
       "</div>"
      ],
      "text/plain": [
       "   link_seq_id  link_id vdf_type  from_node_id  to_node_id  lanes  \\\n",
       "0            1        3      bpr             1           4    1.0   \n",
       "1            2        4      bpr             4           2    1.0   \n",
       "2            3        1      bpr             1           3    1.0   \n",
       "3            4        2      bpr             3           2    1.0   \n",
       "\n",
       "   distance_km  distance_mile  fftt  meso_link_id  ...  DTM_speed_before  \\\n",
       "0         15.0       9.322561  15.0            -1  ...            59.882   \n",
       "1         15.0       9.322561  15.0            -1  ...            59.882   \n",
       "2         10.0       6.215040  10.0            -1  ...            39.618   \n",
       "3         10.0       6.215040  10.0            -1  ...            39.618   \n",
       "\n",
       "   DTM_speed_after DTM_speed_diff  DTM_DoC_before  DTM_DoC_after  \\\n",
       "0              0.0        -59.882           0.339            0.0   \n",
       "1              0.0        -59.882           0.339            0.0   \n",
       "2              0.0        -39.618           1.361            0.0   \n",
       "3              0.0        -39.618           1.361            0.0   \n",
       "\n",
       "   DTM_Doc_diff  DTM_P_before  DTM_P_after  DTM_P_diff         notes  \n",
       "0        -0.339         0.013          0.0      -0.013  period-based  \n",
       "1        -0.339         0.013          0.0      -0.013  period-based  \n",
       "2        -1.361         1.358          0.0      -1.358  period-based  \n",
       "3        -1.361         1.358          0.0      -1.358  period-based  \n",
       "\n",
       "[4 rows x 140 columns]"
      ]
     },
     "execution_count": 18,
     "metadata": {},
     "output_type": "execute_result"
    }
   ],
   "source": [
    "link_performance = pd.read_csv('link_performance_s0_25nb.csv')\n",
    "link_performance"
   ]
  },
  {
   "cell_type": "markdown",
   "id": "9f1b85e2",
   "metadata": {},
   "source": [
    "The attribute ODME_volume_before shows the link volume before ODME, and ODME_volume_after shows the link volume after ODME.As you can see, with the sensor data, the assignment result of volume is more accurate (after ODME)."
   ]
  },
  {
   "cell_type": "code",
   "execution_count": 19,
   "id": "9310cd17",
   "metadata": {},
   "outputs": [
    {
     "data": {
      "text/html": [
       "<div>\n",
       "<style scoped>\n",
       "    .dataframe tbody tr th:only-of-type {\n",
       "        vertical-align: middle;\n",
       "    }\n",
       "\n",
       "    .dataframe tbody tr th {\n",
       "        vertical-align: top;\n",
       "    }\n",
       "\n",
       "    .dataframe thead th {\n",
       "        text-align: right;\n",
       "    }\n",
       "</style>\n",
       "<table border=\"1\" class=\"dataframe\">\n",
       "  <thead>\n",
       "    <tr style=\"text-align: right;\">\n",
       "      <th></th>\n",
       "      <th>link_id</th>\n",
       "      <th>from_node_id</th>\n",
       "      <th>to_node_id</th>\n",
       "      <th>volume</th>\n",
       "      <th>ODME_volume_before</th>\n",
       "      <th>ODME_volume_after</th>\n",
       "      <th>ODME_volume_diff</th>\n",
       "    </tr>\n",
       "  </thead>\n",
       "  <tbody>\n",
       "    <tr>\n",
       "      <th>0</th>\n",
       "      <td>3</td>\n",
       "      <td>1</td>\n",
       "      <td>4</td>\n",
       "      <td>1015.719</td>\n",
       "      <td>1556.491</td>\n",
       "      <td>1015.719</td>\n",
       "      <td>-540.772</td>\n",
       "    </tr>\n",
       "    <tr>\n",
       "      <th>1</th>\n",
       "      <td>4</td>\n",
       "      <td>4</td>\n",
       "      <td>2</td>\n",
       "      <td>1015.719</td>\n",
       "      <td>1556.491</td>\n",
       "      <td>1015.719</td>\n",
       "      <td>-540.772</td>\n",
       "    </tr>\n",
       "    <tr>\n",
       "      <th>2</th>\n",
       "      <td>1</td>\n",
       "      <td>1</td>\n",
       "      <td>3</td>\n",
       "      <td>5443.509</td>\n",
       "      <td>5443.509</td>\n",
       "      <td>5443.509</td>\n",
       "      <td>0.000</td>\n",
       "    </tr>\n",
       "    <tr>\n",
       "      <th>3</th>\n",
       "      <td>2</td>\n",
       "      <td>3</td>\n",
       "      <td>2</td>\n",
       "      <td>5443.509</td>\n",
       "      <td>5443.509</td>\n",
       "      <td>5443.509</td>\n",
       "      <td>0.000</td>\n",
       "    </tr>\n",
       "  </tbody>\n",
       "</table>\n",
       "</div>"
      ],
      "text/plain": [
       "   link_id  from_node_id  to_node_id    volume  ODME_volume_before  \\\n",
       "0        3             1           4  1015.719            1556.491   \n",
       "1        4             4           2  1015.719            1556.491   \n",
       "2        1             1           3  5443.509            5443.509   \n",
       "3        2             3           2  5443.509            5443.509   \n",
       "\n",
       "   ODME_volume_after  ODME_volume_diff  \n",
       "0           1015.719          -540.772  \n",
       "1           1015.719          -540.772  \n",
       "2           5443.509             0.000  \n",
       "3           5443.509             0.000  "
      ]
     },
     "execution_count": 19,
     "metadata": {},
     "output_type": "execute_result"
    }
   ],
   "source": [
    "link_performance[['link_id','from_node_id','to_node_id','volume','ODME_volume_before','ODME_volume_after','ODME_volume_diff']]"
   ]
  },
  {
   "cell_type": "markdown",
   "id": "a7b94cc3",
   "metadata": {},
   "source": [
    "With the link_performance file and network files(link.csv and node.csv), you can use the following code to get the network with assignment flow result on link."
   ]
  },
  {
   "cell_type": "code",
   "execution_count": 20,
   "id": "fb6b7bbb",
   "metadata": {},
   "outputs": [
    {
     "data": {
      "image/png": "[encoded data removed]",
      "text/plain": [
       "<Figure size 400x300 with 1 Axes>"
      ]
     },
     "metadata": {},
     "output_type": "display_data"
    }
   ],
   "source": [
    "gnode = list(node['node_id'])\n",
    "glink = list(zip(link['from_node_id'],link['to_node_id']))\n",
    "G = nx.DiGraph()           # grapgh object\n",
    "G.add_nodes_from(gnode)\n",
    "G.add_edges_from(glink)\n",
    "\n",
    "coordinates = np.array(list(zip(node['x_coord'],node['y_coord'])))\n",
    "npos = dict(zip(gnode,coordinates))  # Get the mapping relationship between nodes and coordinates, represented as a dictionary\n",
    "nlabels = dict(zip(gnode, gnode))\n",
    "edge_labels = dict(zip(glink, list(link_performance['volume'])))\n",
    "\n",
    "nx.draw_networkx_nodes(G, npos, node_color=\"lightblue\")  # draw the nodes\n",
    "nx.draw_networkx_edges(G, npos, glink)  # draw the edges(links)\n",
    "nx.draw_networkx_labels(G, npos, nlabels)  # add labels\n",
    "nx.draw_networkx_edge_labels(G, npos, edge_labels=edge_labels) # show the assignment flow result\n",
    "plt.rcParams['figure.figsize']= (4, 3) "
   ]
  },
  {
   "cell_type": "markdown",
   "id": "a38631a5",
   "metadata": {},
   "source": [
    "Route volume:<br>\n",
    "    &emsp;1->3->2 :5443.509<br>\n",
    "    &emsp;1->4->2 :1015.719<br>\n",
    "Link volume:<br>\n",
    "    &emsp;1->3 :5443.509<br>\n",
    "    &emsp;3->2 :5443.509<br>\n",
    "    &emsp;1->4 :1015.719<br>\n",
    "    &emsp;4->2 :1015.719"
   ]
  },
  {
   "cell_type": "markdown",
   "id": "ffc73933",
   "metadata": {},
   "source": [
    "### c. Summary of results\n",
    "The program outputs various items such as runtime information, assignment results, and system performance to the final_summary.csv file, through which you can get the complete results of each part of the program. "
   ]
  },
  {
   "cell_type": "code",
   "execution_count": 21,
   "id": "ddde33aa",
   "metadata": {},
   "outputs": [],
   "source": [
    "col_names=[str(i) for i in range(12)]\n",
    "data = pd.read_csv('final_summary.csv',header=None,names=col_names)"
   ]
  },
  {
   "cell_type": "code",
   "execution_count": 22,
   "id": "e45e4078",
   "metadata": {},
   "outputs": [
    {
     "data": {
      "text/plain": [
       "'                                                                                                                                          0                                                                                                                                        1                                                    2                            3                                   4                                        5                    6                    7                   8               9                 10                   11\\n0                                                                                    [PROCESS INFO] Step 0: reading scenario_index_list.csv                                                                                                                                      NaN                                                  NaN                          NaN                                 NaN                                      NaN                  NaN                  NaN                 NaN             NaN                NaN                  NaN\\n1                                                                                                            [STATUS INFO] scenario_index=0                                                                                                                           scenario_name=                                                 25nb                          NaN                                 NaN                                      NaN                  NaN                  NaN                 NaN             NaN                NaN                  NaN\\n2                                                                                     [PROCESS INFO] Step 1.1: Reading demand_period.csv...                                                                                                                                      NaN                                                  NaN                          NaN                                 NaN                                      NaN                  NaN                  NaN                 NaN             NaN                NaN                  NaN\\n3                                                                                                                                       NaN                                                                                                                         demand_period= 1                                                   am        time_period=0700_0800                                 NaN                                      NaN                  NaN                  NaN                 NaN             NaN                NaN                  NaN\\n4                                                                                    [PROCESS INFO] Step 1.2: Reading file mode_type.csv...                                                                                                                                      NaN                                                  NaN                          NaN                                 NaN                                      NaN                  NaN                  NaN                 NaN             NaN                NaN                  NaN\\n5                                                                                                                               mode_type =                                                                                                                                     auto                              real time info flag = 0                          NaN                                 NaN                                      NaN                  NaN                  NaN                 NaN             NaN                NaN                  NaN\\n6                                                                                                                               link_type =                                                                                                                                        1                            link_type_name = motorway                          NaN                                 NaN                                      NaN                  NaN                  NaN                 NaN             NaN                NaN                  NaN\\n7                                                                                                                                       NaN                                                                                                                          mode_type= auto                                            cap= 2000               free_speed=120                                 NaN                                      NaN                  NaN                  NaN                 NaN             NaN                NaN                  NaN\\n8                                                                                                                               link_type =                                                                                                                                        2                               link_type_name = trunk                          NaN                                 NaN                                      NaN                  NaN                  NaN                 NaN             NaN                NaN                  NaN\\n9                                                                                                                                       NaN                                                                                                                          mode_type= auto                                            cap= 1800               free_speed=100                                 NaN                                      NaN                  NaN                  NaN                 NaN             NaN                NaN                  NaN\\n10                                                                                                                              link_type =                                                                                                                                        3                             link_type_name = primary                          NaN                                 NaN                                      NaN                  NaN                  NaN                 NaN             NaN                NaN                  NaN\\n11                                                                                                                                      NaN                                                                                                                          mode_type= auto                                            cap= 1500                free_speed=80                                 NaN                                      NaN                  NaN                  NaN                 NaN             NaN                NaN                  NaN\\n12                                                                                                                              link_type =                                                                                                                                        4                         link_type_name = residential                          NaN                                 NaN                                      NaN                  NaN                  NaN                 NaN             NaN                NaN                  NaN\\n13                                                                                                                                      NaN                                                                                                                          mode_type= auto                                            cap= 1000                free_speed=30                                 NaN                                      NaN                  NaN                  NaN                 NaN             NaN                NaN                  NaN\\n14                                                                                                                              link_type =                                                                                                                                        5                           link_type_name = secondary                          NaN                                 NaN                                      NaN                  NaN                  NaN                 NaN             NaN                NaN                  NaN\\n15                                                                                                                                      NaN                                                                                                                          mode_type= auto                                            cap= 1400                free_speed=60                                 NaN                                      NaN                  NaN                  NaN                 NaN             NaN                NaN                  NaN\\n16                                                                                                                              link_type =                                                                                                                                        6                            link_type_name = tertiary                          NaN                                 NaN                                      NaN                  NaN                  NaN                 NaN             NaN                NaN                  NaN\\n17                                                                                                                                      NaN                                                                                                                          mode_type= auto                                            cap= 1300                free_speed=50                                 NaN                                      NaN                  NaN                  NaN                 NaN             NaN                NaN                  NaN\\n18                                                                                                                              link_type =                                                                                                                                        7                        link_type_name = unclassified                          NaN                                 NaN                                      NaN                  NaN                  NaN                 NaN             NaN                NaN                  NaN\\n19                                                                                                                                      NaN                                                                                                                          mode_type= auto                                            cap= 1200                free_speed=40                                 NaN                                      NaN                  NaN                  NaN                 NaN             NaN                NaN                  NaN\\n20                                                                                                                              link_type =                                                                                                                                        9                           link_type_name = collector                          NaN                                 NaN                                      NaN                  NaN                  NaN                 NaN             NaN                NaN                  NaN\\n21                                                                                                                                      NaN                                                                                                                          mode_type= auto                                            cap= 1200                free_speed=50                                 NaN                                      NaN                  NaN                  NaN                 NaN             NaN                NaN                  NaN\\n22                                                                                                                              link_type =                                                                                                                                       10                           link_type_name = connector                          NaN                                 NaN                                      NaN                  NaN                  NaN                 NaN             NaN                NaN                  NaN\\n23                                                                                                                                      NaN                                                                                                                          mode_type= auto                                           cap= 15000                free_speed=60                                 NaN                                      NaN                  NaN                  NaN                 NaN             NaN                NaN                  NaN\\n24                                                                                                                              link_type =                                                                                                                                      100                          link_type_name = shared_use                          NaN                                 NaN                                      NaN                  NaN                  NaN                 NaN             NaN                NaN                  NaN\\n25                                                                                                                                      NaN                                                                                                                          mode_type= auto                                             cap= 200                free_speed=20                                 NaN                                      NaN                  NaN                  NaN                 NaN             NaN                NaN                  NaN\\n26                                                                                                                              link_type =                                                                                                                                      200                            link_type_name = bikeonly                          NaN                                 NaN                                      NaN                  NaN                  NaN                 NaN             NaN                NaN                  NaN\\n27                                                                                                                                      NaN                                                                                                                          mode_type= auto                                             cap= 200                 free_speed=5                                 NaN                                      NaN                  NaN                  NaN                 NaN             NaN                NaN                  NaN\\n28                                                                                                                              link_type =                                                                                                                                      300                            link_type_name = walkonly                          NaN                                 NaN                                      NaN                  NaN                  NaN                 NaN             NaN                NaN                  NaN\\n29                                                                                                                                      NaN                                                                                                                          mode_type= auto                                             cap= 300                free_speed=25                                 NaN                                      NaN                  NaN                  NaN                 NaN             NaN                NaN                  NaN\\n30                                                                                                                                      NaN                                                                                            number of activity nodes defined in node.csv=                                                    2                          NaN                                 NaN                                      NaN                  NaN                  NaN                 NaN             NaN                NaN                  NaN\\n31                                                                                                                                      NaN                                                                                   number of boundary activity nodes defined in node.csv=                                                    0                          NaN                                 NaN                                      NaN                  NaN                  NaN                 NaN             NaN                NaN                  NaN\\n32                                                                                             [PROCESS INFO] Step 1: read network node.csv                                                                                                                                 link.csv                                            zone.csv                           NaN                                 NaN                                      NaN                  NaN                  NaN                 NaN             NaN                NaN                  NaN\\n33                                                                                                                                      NaN                                                                                                                            # of nodes =                                                     6                          NaN                                 NaN                                      NaN                  NaN                  NaN                 NaN             NaN                NaN                  NaN\\n34                                                                                                                                      NaN                                                                                                                             # of links =                                                    4                          NaN                                 NaN                                      NaN                  NaN                  NaN                 NaN             NaN                NaN                  NaN\\n35                                                                                                                                      NaN                                                                                                                             # of zones =                                                    2                          NaN                                 NaN                                      NaN                  NaN                  NaN                 NaN             NaN                NaN                  NaN\\n36                                                                                             [PROCESS INFO] Step 1: read network node.csv                                                                                                                                 link.csv                                            zone.csv                           NaN                                 NaN                                      NaN                  NaN                  NaN                 NaN             NaN                NaN                  NaN\\n37                                                                                                                                      NaN                                                                                                                            # of nodes =                                                     6                          NaN                                 NaN                                      NaN                  NaN                  NaN                 NaN             NaN                NaN                  NaN\\n38                                                                                                                                      NaN                                                                                                                             # of links =                                                    4                          NaN                                 NaN                                      NaN                  NaN                  NaN                 NaN             NaN                NaN                  NaN\\n39                                                                                                                                      NaN                                                                                                                             # of zones =                                                    2                          NaN                                 NaN                                      NaN                  NaN                  NaN                 NaN             NaN                NaN                  NaN\\n40                                                                                                                                      NaN                                                                                                                summary by road link type                                            link_type               link_type_name                          # of links                       avg_free_speed_mph  avg_free_speed_kmph                  NaN        total_length  total_capacity  avg_lane_capacity  avg_length_in_meter\\n41                                                                                                                                      NaN                                                                                                                                      NaN                                                   -1                          NaN                                   0                                        0                    0                    0                   0               0                  0                  NaN\\n42                                                                                                                                      NaN                                                                                                                                      NaN                                                    1                     motorway                                   2                                       60              96.5604                   20                8000            4000              10000                  NaN\\n43                                                                                                                                      NaN                                                                                                                                      NaN                                                    2                        trunk                                   2                                       60              96.5604                   30                6000            3000              15000                  NaN\\n44                                                                                                                                      NaN                                                                                                                                      NaN                                                    3                      primary                                   0                                        0                    0                    0                   0               0                  0                  NaN\\n45                                                                                                                                      NaN                                                                                                                                      NaN                                                    4                  residential                                   0                                        0                    0                    0                   0               0                  0                  NaN\\n46                                                                                                                                      NaN                                                                                                                                      NaN                                                    5                    secondary                                   0                                        0                    0                    0                   0               0                  0                  NaN\\n47                                                                                                                                      NaN                                                                                                                                      NaN                                                    6                     tertiary                                   0                                        0                    0                    0                   0               0                  0                  NaN\\n48                                                                                                                                      NaN                                                                                                                                      NaN                                                    7                 unclassified                                   0                                        0                    0                    0                   0               0                  0                  NaN\\n49                                                                                                                                      NaN                                                                                                                                      NaN                                                    9                    collector                                   0                                        0                    0                    0                   0               0                  0                  NaN\\n50                                                                                                                                      NaN                                                                                                                                      NaN                                                   10                    connector                                   0                                        0                    0                    0                   0               0                  0                  NaN\\n51                                                                                                                                      NaN                                                                                                                                      NaN                                                  100                   shared_use                                   0                                        0                    0                    0                   0               0                  0                  NaN\\n52                                                                                                                                      NaN                                                                                                                                      NaN                                                  200                     bikeonly                                   0                                        0                    0                    0                   0               0                  0                  NaN\\n53                                                                                                                                      NaN                                                                                                                                      NaN                                                  300                     walkonly                                   0                                        0                    0                    0                   0               0                  0                  NaN\\n54                                                                                                                                      NaN                                                                                                                                      NaN                                                   -1                          NaN                                 NaN                                      NaN                    1             motorway                 NaN             NaN                  2                trunk\\n55                                                                                                                                      NaN                                                                                                                     first stage scanning                                                  NaN                          NaN                                 NaN                                      NaN                  NaN                  NaN                 NaN             NaN                NaN                  NaN\\n56                                                                                                                                      NaN                                                                                                                    # of inside zones = 2                          total_related_demand = 7000                          NaN                                 NaN                                      NaN                  NaN                  NaN                 NaN             NaN                NaN                  NaN\\n57                                                                                                                                      NaN                                                                                                      # inside_significant_zone_count = 2      total_related_demand_from_internal zones = 7000                          NaN                                 NaN                                      NaN                  NaN                  NaN                 NaN             NaN                NaN                  NaN\\n58                                                                                                                                      NaN                                                                                                    # inside_insignificant_zone_count = 0         total_related_demand_from_internal zones = 0                          NaN                                 NaN                                      NaN                  NaN                  NaN                 NaN             NaN                NaN                  NaN\\n59                                                                                                                                      NaN                                                                                                        # related_external_zone_count = 0                          external related demand = 0                          NaN                                 NaN                                      NaN                  NaN                  NaN                 NaN             NaN                NaN                  NaN\\n60                                                                                                                                      NaN                                                                                # related_external_zone_count_with_significant_volume = 0                                                  NaN                          NaN                                 NaN                                      NaN                  NaN                  NaN                 NaN             NaN                NaN                  NaN\\n61                                                                                                       During the second stage of cut off                                                the cut off zone includes all inside zones along with significant external related zones.                                                  NaN                          NaN                                 NaN                                      NaN                  NaN                  NaN                 NaN             NaN                NaN                  NaN\\n62                                                                                                                                      NaN                                                                                                                  # cut off zone size = 2       total_related_demand_from_external_cutoff  = 0                          NaN                                 NaN                                      NaN                  NaN                  NaN                 NaN             NaN                NaN                  NaN\\n63                                                                                                                                      NaN  cut off volume threshold to determine significance = 0.External origin zones with a volume larger than this threshold will be retained.                                                  NaN                          NaN                                 NaN                                      NaN                  NaN                  NaN                 NaN             NaN                NaN                  NaN\\n64                                                                                                                                      NaN                                                                    remaining external related demand percentage after the cut off  = 0 %                                                  NaN                          NaN                                 NaN                                      NaN                  NaN                  NaN                 NaN             NaN                NaN                  NaN\\n65                                                                                                     [PROCESS INFO] Step 2.1: read demand                                                                                                         defined in demand_file_list.csv.                                                  NaN                          NaN                                 NaN                                      NaN                  NaN                  NaN                 NaN             NaN                NaN                  NaN\\n66                                                                                 [STATUS INFO] reading demand file for scenario index = 0                                                                                                                                      NaN                                                  NaN                          NaN                                 NaN                                      NaN                  NaN                  NaN                 NaN             NaN                NaN                  NaN\\n67                                                                                                                                      NaN                                                                                                  summary by multi-modal and demand types                                        demand_period                    mode_type  total demmand volume in scenario 0                               # of links   avg_free_speed_mph  avg_free_speed_kmph  total_length_in_km  total_capacity  avg_lane_capacity  avg_length_in_meter\\n68                                                                                                                                      NaN                                                                                                                                      NaN                                                   am                         auto                                7000                                        4                   60              96.5604                  50           14000               3500                12500\\n69                                                                                                                                      NaN                                                                                                                                from_flag                                              to_flag                       volume                                 NaN                                      NaN                  NaN                  NaN                 NaN             NaN                NaN                  NaN\\n70                                                                                                                                      NaN                                                                                                                                from_flag                                              to_flag                       volume                                 NaN                                      NaN                  NaN                  NaN                 NaN             NaN                NaN                  NaN\\n71                                                                                         FOCUSING internal step 1: Focus-subarea Approach                                                                                                                            0=not related   1=significantly related external but not in cutoff          2= cut-off external                           3= inside                                      NaN                  NaN                  NaN                 NaN             NaN                NaN                  NaN\\n72                                                                                                                                      NaN                                                                                                                                        0                                                    1                            2                                   3                                      NaN                  NaN                  NaN                 NaN             NaN                NaN                  NaN\\n73                                                                                                                                        0                                                                                                                                        0                                                    0                            0                                   0                                      NaN                  NaN                  NaN                 NaN             NaN                NaN                  NaN\\n74                                                                                                                                        1                                                                                                                                        0                                                    0                            0                                   0                                      NaN                  NaN                  NaN                 NaN             NaN                NaN                  NaN\\n75                                                                                                                                        2                                                                                                                                        0                                                    0                            0                                   0                                      NaN                  NaN                  NaN                 NaN             NaN                NaN                  NaN\\n76                                                                                                                                        3                                                                                                                                        0                                                    0                            0                                7000                                      NaN                  NaN                  NaN                 NaN             NaN                NaN                  NaN\\n77                                                                                   FOCUSING internal step 2: Origin-based flow extraction                                                                                                                                top 10 OD                                                 rank                            o                                   d                            inside_flag_o        inside_flag_d            mode_type      departure_time          volume                NaN                  NaN\\n78                                                                                                                                      NaN                                                                                                                                      NaN                                                    1                            1                                   2                                        3                    3                 auto                  am            7000                NaN                  NaN\\n79                                                                           [PROCESS INFO]Step 4: Column Generation for Traffic Assignment                                                                                                                                      NaN                                                  NaN                          NaN                                 NaN                                      NaN                  NaN                  NaN                 NaN             NaN                NaN                  NaN\\n80                                                                                                                                      NaN                                                                                           Total number of column generation iterations =                                                   20                          NaN                                 NaN                                      NaN                  NaN                  NaN                 NaN             NaN                NaN                  NaN\\n81                                                                                                                                      NaN                                                                                           Total number of column generation iterations =                                                   20                          NaN                                 NaN                                      NaN                  NaN                  NaN                 NaN             NaN                NaN                  NaN\\n82                                                                                                                                      NaN                                                                                                  read dynamic traffic managementscenario                                                  NaN                          NaN                                 NaN                                      NaN                  NaN                  NaN                 NaN             NaN                NaN                  NaN\\n83                                                                                                                                      NaN                                                                             # of lane closure records in dynamic_traffic_management.csv=                                                    0                          NaN                                 NaN                                      NaN                  NaN                  NaN                 NaN             NaN                NaN                  NaN\\n84                                                                                                                                      NaN                                                                                      # of dms records in dynamic_traffic_management.csv=                                                    0                          NaN                                 NaN                                      NaN                  NaN                  NaN                 NaN             NaN                NaN                  NaN\\n85                                                                                                                    [DATA INFO] Iteration                                                                                                                   CPU running time (sec)                                          # of agents         Avg Travel Time(min)                        Avg UE gap %                                      NaN                  NaN                  NaN                 NaN             NaN                NaN                  NaN\\n86                                                                                                                                        0                                                                                                                                        0                                                 7000                            0                                   0                                      NaN                  NaN                  NaN                 NaN             NaN                NaN                  NaN\\n87                                                                                                                                        1                                                                                                                                        0                                                 7000                      48.1367                             140.684                                      NaN                  NaN                  NaN                 NaN             NaN                NaN                  NaN\\n88                                                                                                                                        2                                                                                                                                        0                                                 7000                      30.0477                            0.158917                                      NaN                  NaN                  NaN                 NaN             NaN                NaN                  NaN\\n89                                                                                                                                        3                                                                                                                                        0                                                 7000                      27.5875                             26.7893                                      NaN                  NaN                  NaN                 NaN             NaN                NaN                  NaN\\n90                                                                                                                                        4                                                                                                                                        0                                                 7000                      29.3072                             14.6701                                      NaN                  NaN                  NaN                 NaN             NaN                NaN                  NaN\\n91                                                                                                                                        5                                                                                                                                        0                                                 7000                      31.2625                             8.16497                                      NaN                  NaN                  NaN                 NaN             NaN                NaN                  NaN\\n92                                                                                                                                        6                                                                                                                                        0                                                 7000                      27.5875                                   0                                      NaN                  NaN                  NaN                 NaN             NaN                NaN                  NaN\\n93                                                                                                                                        7                                                                                                                                        0                                                 7000                      28.3427                             10.8962                                      NaN                  NaN                  NaN                 NaN             NaN                NaN                  NaN\\n94                                                                                                                                        8                                                                                                                                        0                                                 7000                      29.3072                             7.25737                                      NaN                  NaN                  NaN                 NaN             NaN                NaN                  NaN\\n95                                                                                                                                        9                                                                                                                                        0                                                 7000                       30.303                             4.84514                                      NaN                  NaN                  NaN                 NaN             NaN                NaN                  NaN\\n96                                                                                                                                       10                                                                                                                                        0                                                 7000                      31.2625                             3.18809                                      NaN                  NaN                  NaN                 NaN             NaN                NaN                  NaN\\n97                                                                                                                                       11                                                                                                                                        0                                                 7000                      28.6533                                   0                                      NaN                  NaN                  NaN                 NaN             NaN                NaN                  NaN\\n98                                                                                                                                       12                                                                                                                                        0                                                 7000                      29.3072                             5.15092                                      NaN                  NaN                  NaN                 NaN             NaN                NaN                  NaN\\n99                                                                                                                                       13                                                                                                                                        0                                                 7000                       29.973                             3.70346                                      NaN                  NaN                  NaN                 NaN             NaN                NaN                  NaN\\n100                                                                                                                                      14                                                                                                                                        0                                                 7000                      30.6286                             2.60354                                      NaN                  NaN                  NaN                 NaN             NaN                NaN                  NaN\\n101                                                                                                                                      15                                                                                                                                        0                                                 7000                      28.8139                                   0                                      NaN                  NaN                  NaN                 NaN             NaN                NaN                  NaN\\n102                                                                                                                                      16                                                                                                                                        0                                                 7000                      29.3072                             4.15804                                      NaN                  NaN                  NaN                 NaN             NaN                NaN                  NaN\\n103                                                                                                                                      17                                                                                                                                        0                                                 7000                      29.8069                             3.12868                                      NaN                  NaN                  NaN                 NaN             NaN                NaN                  NaN\\n104                                                                                                                                      18                                                                                                                                        0                                                 7000                       30.303                             2.30007                                      NaN                  NaN                  NaN                 NaN             NaN                NaN                  NaN\\n105                                                                                                                                      19                                                                                                                                        0                                                 7000                      30.7895                             1.62663                                      NaN                  NaN                  NaN                 NaN             NaN                NaN                  NaN\\n106                                                          [PROCESS INFO] Step 5: column pool-based flow updating for traffic assignment                                                                                                                                       NaN                                                  NaN                          NaN                                 NaN                                      NaN                  NaN                  NaN                 NaN             NaN                NaN                  NaN\\n107                                                                                                                                     NaN                                                                                                           # of flow updating iterations=                                                    5                          NaN                                 NaN                                      NaN                  NaN                  NaN                 NaN             NaN                NaN                  NaN\\n108                                                                                                                         column updating                                                                                                                                      NaN                                                  NaN                          NaN                                 NaN                                      NaN                  NaN                  NaN                 NaN             NaN                NaN                  NaN\\n109                                                                                              [DATA INFO] column updating: iteration = 0                                                                                                           avg travel time = 29.3072(min)                           optimization obj = 2832.23    Relative_gap = 0.681372 %                                 NaN                                      NaN                  NaN                  NaN                 NaN             NaN                NaN                  NaN\\n110                                                                                              [DATA INFO] column updating: iteration = 1                                                                                                           avg travel time = 30.2528(min)                           optimization obj = 161.013   Relative_gap = 0.0379945 %                                 NaN                                      NaN                  NaN                  NaN                 NaN             NaN                NaN                  NaN\\n111                                                                                      [PROCESS INFO] Step 6: OD demand matrix estimation                                                                                                                                      NaN                                                  NaN                          NaN                                 NaN                                      NaN                  NaN                  NaN                 NaN             NaN                NaN                  NaN\\n112                                                                                                              ODME stage: # of sensors =                                                                                                                                        1                                                  NaN                          NaN                                 NaN                                      NaN                  NaN                  NaN                 NaN             NaN                NaN                  NaN\\n113                                                                                                                                 ODME #0                                                                                                                        link MAE= 556.491                                  link_MAPE: 55.6491%         system_MPE: 55.6491%              avg_tt = 30.2977(min)   UE gap =0.00811685(min) = (0.0267903 %)                  NaN                  NaN                 NaN             NaN                NaN                  NaN\\n114                                                                                                                                 ODME #1                                                                                                                        link MAE= 400.842                                  link_MAPE: 40.0842%         system_MPE: 40.0842%              avg_tt = 22.0801(min)        UE gap =2.08008(min) = (9.42062 %)                  NaN                  NaN                 NaN             NaN                NaN                  NaN\\n115                                                                                                                                 ODME #2                                                                                                                        link MAE= 267.228                                  link_MAPE: 26.7228%         system_MPE: 26.7228%              avg_tt = 21.9086(min)        UE gap =1.90856(min) = (8.71147 %)                  NaN                  NaN                 NaN             NaN                NaN                  NaN\\n116                                                                                                                                 ODME #3                                                                                                                        link MAE= 200.421                                  link_MAPE: 20.0421%         system_MPE: 20.0421%              avg_tt = 21.8197(min)        UE gap =1.81974(min) = (8.33986 %)                  NaN                  NaN                 NaN             NaN                NaN                  NaN\\n117                                                                                                                                 ODME #4                                                                                                                        link MAE= 160.337                                  link_MAPE: 16.0337%         system_MPE: 16.0337%              avg_tt = 21.7672(min)         UE gap =1.7672(min) = (8.11862 %)                  NaN                  NaN                 NaN             NaN                NaN                  NaN\\n118                                                                                                                                 ODME #5                                                                                                                        link MAE= 133.614                                  link_MAPE: 13.3614%         system_MPE: 13.3614%              avg_tt = 21.7322(min)        UE gap =1.73225(min) = (7.97087 %)                  NaN                  NaN                 NaN             NaN                NaN                  NaN\\n119                                                                                                                                 ODME #6                                                                                                                        link MAE= 114.526                                  link_MAPE: 11.4526%         system_MPE: 11.4526%              avg_tt = 21.7073(min)          UE gap =1.70728(min) = (7.865 %)                  NaN                  NaN                 NaN             NaN                NaN                  NaN\\n120                                                                                                                                 ODME #7                                                                                                                         link MAE= 100.21                                   link_MAPE: 10.021%          system_MPE: 10.021%              avg_tt = 21.6885(min)        UE gap =1.68853(min) = (7.78536 %)                  NaN                  NaN                 NaN             NaN                NaN                  NaN\\n121                                                                                                                                 ODME #8                                                                                                                        link MAE= 89.0759                                  link_MAPE: 8.90759%         system_MPE: 8.90759%              avg_tt = 21.6739(min)        UE gap =1.67393(min) = (7.72324 %)                  NaN                  NaN                 NaN             NaN                NaN                  NaN\\n122                                                                                                                                 ODME #9                                                                                                                        link MAE= 80.1683                                  link_MAPE: 8.01683%         system_MPE: 8.01683%              avg_tt = 21.6622(min)        UE gap =1.66224(min) = (7.67343 %)                  NaN                  NaN                 NaN             NaN                NaN                  NaN\\n123                                                                                                                                ODME #10                                                                                                                        link MAE= 72.8804                                  link_MAPE: 7.28804%         system_MPE: 7.28804%              avg_tt = 21.6527(min)        UE gap =1.65266(min) = (7.63259 %)                  NaN                  NaN                 NaN             NaN                NaN                  NaN\\n124                                                                                                                                ODME #11                                                                                                                         link MAE= 66.807                                   link_MAPE: 6.6807%          system_MPE: 6.6807%              avg_tt = 21.6447(min)        UE gap =1.64467(min) = (7.59851 %)                  NaN                  NaN                 NaN             NaN                NaN                  NaN\\n125                                                                                                                                ODME #12                                                                                                                         link MAE= 61.668                                   link_MAPE: 6.1668%          system_MPE: 6.1668%              avg_tt = 21.6379(min)        UE gap =1.63791(min) = (7.56962 %)                  NaN                  NaN                 NaN             NaN                NaN                  NaN\\n126                                                                                                                                ODME #13                                                                                                                        link MAE= 57.2631                                  link_MAPE: 5.72631%         system_MPE: 5.72631%              avg_tt = 21.6321(min)         UE gap =1.6321(min) = (7.54483 %)                  NaN                  NaN                 NaN             NaN                NaN                  NaN\\n127                                                                                                                                ODME #14                                                                                                                        link MAE= 53.4456                                  link_MAPE: 5.34456%         system_MPE: 5.34456%              avg_tt = 21.6271(min)        UE gap =1.62707(min) = (7.52332 %)                  NaN                  NaN                 NaN             NaN                NaN                  NaN\\n128                                                                                                                                ODME #15                                                                                                                        link MAE= 50.1052                                  link_MAPE: 5.01052%         system_MPE: 5.01052%              avg_tt = 21.6227(min)        UE gap =1.62267(min) = (7.50447 %)                  NaN                  NaN                 NaN             NaN                NaN                  NaN\\n129                                                                                                                                ODME #16                                                                                                                        link MAE= 47.1578                                  link_MAPE: 4.71578%         system_MPE: 4.71578%              avg_tt = 21.6188(min)        UE gap =1.61878(min) = (7.48783 %)                  NaN                  NaN                 NaN             NaN                NaN                  NaN\\n130                                                                                                                                ODME #17                                                                                                                         link MAE= 44.538                                   link_MAPE: 4.4538%          system_MPE: 4.4538%              avg_tt = 21.6153(min)        UE gap =1.61532(min) = (7.47303 %)                  NaN                  NaN                 NaN             NaN                NaN                  NaN\\n131                                                                                                                                ODME #18                                                                                                                        link MAE= 42.1938                                  link_MAPE: 4.21938%         system_MPE: 4.21938%              avg_tt = 21.6122(min)        UE gap =1.61222(min) = (7.45977 %)                  NaN                  NaN                 NaN             NaN                NaN                  NaN\\n132                                                                                                                                ODME #19                                                                                                                        link MAE= 40.0842                                  link_MAPE: 4.00842%         system_MPE: 4.00842%              avg_tt = 21.6094(min)        UE gap =1.60944(min) = (7.44784 %)                  NaN                  NaN                 NaN             NaN                NaN                  NaN\\n133                                                                                                                                ODME #20                                                                                                                        link MAE= 38.1754                                  link_MAPE: 3.81754%         system_MPE: 3.81754%              avg_tt = 21.6069(min)        UE gap =1.60691(min) = (7.43703 %)                  NaN                  NaN                 NaN             NaN                NaN                  NaN\\n134                                                                                                                                ODME #21                                                                                                                        link MAE= 36.4402                                  link_MAPE: 3.64402%         system_MPE: 3.64402%              avg_tt = 21.6046(min)         UE gap =1.60462(min) = (7.4272 %)                  NaN                  NaN                 NaN             NaN                NaN                  NaN\\n135                                                                                                                                ODME #22                                                                                                                        link MAE= 34.8558                                  link_MAPE: 3.48558%         system_MPE: 3.48558%              avg_tt = 21.6025(min)        UE gap =1.60252(min) = (7.41822 %)                  NaN                  NaN                 NaN             NaN                NaN                  NaN\\n136                                                                                                                                ODME #23                                                                                                                        link MAE= 33.4034                                  link_MAPE: 3.34034%         system_MPE: 3.34034%              avg_tt = 21.6006(min)         UE gap =1.6006(min) = (7.40999 %)                  NaN                  NaN                 NaN             NaN                NaN                  NaN\\n137                                                                                                                                ODME #24                                                                                                                        link MAE= 32.0674                                  link_MAPE: 3.20674%         system_MPE: 3.20674%              avg_tt = 21.5988(min)        UE gap =1.59883(min) = (7.40241 %)                  NaN                  NaN                 NaN             NaN                NaN                  NaN\\n138                                                                                                                                ODME #25                                                                                                                         link MAE= 30.834                                   link_MAPE: 3.0834%          system_MPE: 3.0834%              avg_tt = 21.5972(min)         UE gap =1.5972(min) = (7.39541 %)                  NaN                  NaN                 NaN             NaN                NaN                  NaN\\n139                                                                                                                                ODME #26                                                                                                                         link MAE= 29.692                                   link_MAPE: 2.9692%          system_MPE: 2.9692%              avg_tt = 21.5957(min)        UE gap =1.59569(min) = (7.38892 %)                  NaN                  NaN                 NaN             NaN                NaN                  NaN\\n140                                                                                                                                ODME #27                                                                                                                        link MAE= 28.6316                                  link_MAPE: 2.86316%         system_MPE: 2.86316%              avg_tt = 21.5943(min)         UE gap =1.59428(min) = (7.3829 %)                  NaN                  NaN                 NaN             NaN                NaN                  NaN\\n141                                                                                                                                ODME #28                                                                                                                        link MAE= 27.6443                                  link_MAPE: 2.76443%         system_MPE: 2.76443%               avg_tt = 21.593(min)        UE gap =1.59298(min) = (7.37729 %)                  NaN                  NaN                 NaN             NaN                NaN                  NaN\\n142                                                                                                                                ODME #29                                                                                                                        link MAE= 26.7228                                  link_MAPE: 2.67228%         system_MPE: 2.67228%              avg_tt = 21.5918(min)        UE gap =1.59176(min) = (7.37206 %)                  NaN                  NaN                 NaN             NaN                NaN                  NaN\\n143                                                                                                                                ODME #30                                                                                                                        link MAE= 25.8607                                  link_MAPE: 2.58607%         system_MPE: 2.58607%              avg_tt = 21.5906(min)        UE gap =1.59061(min) = (7.36716 %)                  NaN                  NaN                 NaN             NaN                NaN                  NaN\\n144                                                                                                                                ODME #31                                                                                                                        link MAE= 25.0526                                  link_MAPE: 2.50526%         system_MPE: 2.50526%              avg_tt = 21.5895(min)        UE gap =1.58954(min) = (7.36256 %)                  NaN                  NaN                 NaN             NaN                NaN                  NaN\\n145                                                                                                                                ODME #32                                                                                                                        link MAE= 24.2935                                  link_MAPE: 2.42935%         system_MPE: 2.42935%              avg_tt = 21.5885(min)        UE gap =1.58854(min) = (7.35825 %)                  NaN                  NaN                 NaN             NaN                NaN                  NaN\\n146                                                                                                                                ODME #33                                                                                                                        link MAE= 23.5789                                  link_MAPE: 2.35789%         system_MPE: 2.35789%              avg_tt = 21.5876(min)        UE gap =1.58759(min) = (7.35418 %)                  NaN                  NaN                 NaN             NaN                NaN                  NaN\\n147                                                                                                                                ODME #34                                                                                                                        link MAE= 22.9053                                  link_MAPE: 2.29053%         system_MPE: 2.29053%              avg_tt = 21.5867(min)         UE gap =1.5867(min) = (7.35035 %)                  NaN                  NaN                 NaN             NaN                NaN                  NaN\\n148                                                                                                                                ODME #35                                                                                                                         link MAE= 22.269                                   link_MAPE: 2.2269%          system_MPE: 2.2269%              avg_tt = 21.5859(min)        UE gap =1.58585(min) = (7.34673 %)                  NaN                  NaN                 NaN             NaN                NaN                  NaN\\n149                                                                                                                                ODME #36                                                                                                                        link MAE= 21.6671                                  link_MAPE: 2.16671%         system_MPE: 2.16671%              avg_tt = 21.5851(min)         UE gap =1.58506(min) = (7.3433 %)                  NaN                  NaN                 NaN             NaN                NaN                  NaN\\n150                                                                                                                                ODME #37                                                                                                                        link MAE= 21.0969                                  link_MAPE: 2.10969%         system_MPE: 2.10969%              avg_tt = 21.5843(min)         UE gap =1.5843(min) = (7.34006 %)                  NaN                  NaN                 NaN             NaN                NaN                  NaN\\n151                                                                                                                                ODME #38                                                                                                                         link MAE= 20.556                                   link_MAPE: 2.0556%          system_MPE: 2.0556%              avg_tt = 21.5836(min)        UE gap =1.58358(min) = (7.33698 %)                  NaN                  NaN                 NaN             NaN                NaN                  NaN\\n152                                                                                                                                ODME #39                                                                                                                        link MAE= 20.0421                                  link_MAPE: 2.00421%         system_MPE: 2.00421%              avg_tt = 21.5829(min)         UE gap =1.5829(min) = (7.33405 %)                  NaN                  NaN                 NaN             NaN                NaN                  NaN\\n153                                                                                                                                ODME #40                                                                                                                        link MAE= 19.5533                                  link_MAPE: 1.95533%         system_MPE: 1.95533%              avg_tt = 21.5823(min)        UE gap =1.58225(min) = (7.33126 %)                  NaN                  NaN                 NaN             NaN                NaN                  NaN\\n154                                                                                                                                ODME #41                                                                                                                        link MAE= 19.0877                                  link_MAPE: 1.90877%         system_MPE: 1.90877%              avg_tt = 21.5816(min)        UE gap =1.58163(min) = (7.32861 %)                  NaN                  NaN                 NaN             NaN                NaN                  NaN\\n155                                                                                                                                ODME #42                                                                                                                        link MAE= 18.6438                                  link_MAPE: 1.86438%         system_MPE: 1.86438%               avg_tt = 21.581(min)        UE gap =1.58105(min) = (7.32608 %)                  NaN                  NaN                 NaN             NaN                NaN                  NaN\\n156                                                                                                                                ODME #43                                                                                                                        link MAE= 18.2201                                  link_MAPE: 1.82201%         system_MPE: 1.82201%              avg_tt = 21.5805(min)        UE gap =1.58048(min) = (7.32367 %)                  NaN                  NaN                 NaN             NaN                NaN                  NaN\\n157                                                                                                                                ODME #44                                                                                                                        link MAE= 17.8152                                  link_MAPE: 1.78152%         system_MPE: 1.78152%              avg_tt = 21.5799(min)        UE gap =1.57995(min) = (7.32136 %)                  NaN                  NaN                 NaN             NaN                NaN                  NaN\\n158                                                                                                                                ODME #45                                                                                                                        link MAE= 17.4279                                  link_MAPE: 1.74279%         system_MPE: 1.74279%              avg_tt = 21.5794(min)        UE gap =1.57943(min) = (7.31915 %)                  NaN                  NaN                 NaN             NaN                NaN                  NaN\\n159                                                                                                                                ODME #46                                                                                                                        link MAE= 17.0571                                  link_MAPE: 1.70571%         system_MPE: 1.70571%              avg_tt = 21.5789(min)        UE gap =1.57894(min) = (7.31704 %)                  NaN                  NaN                 NaN             NaN                NaN                  NaN\\n160                                                                                                                                ODME #47                                                                                                                        link MAE= 16.7017                                  link_MAPE: 1.67017%         system_MPE: 1.67017%              avg_tt = 21.5785(min)        UE gap =1.57847(min) = (7.31501 %)                  NaN                  NaN                 NaN             NaN                NaN                  NaN\\n161                                                                                                                                ODME #48                                                                                                                        link MAE= 16.3609                                  link_MAPE: 1.63609%         system_MPE: 1.63609%               avg_tt = 21.578(min)        UE gap =1.57802(min) = (7.31307 %)                  NaN                  NaN                 NaN             NaN                NaN                  NaN\\n162                                                                                                                                ODME #49                                                                                                                        link MAE= 16.0337                                  link_MAPE: 1.60337%         system_MPE: 1.60337%              avg_tt = 21.5776(min)         UE gap =1.57758(min) = (7.3112 %)                  NaN                  NaN                 NaN             NaN                NaN                  NaN\\n163                                                                                                                                ODME #49                                                                                                                        link MAE= 15.7193                                  link_MAPE: 1.57193%         system_MPE: 1.57193%              avg_tt = 21.5772(min)        UE gap =1.57716(min) = (7.30941 %)                  NaN                  NaN                 NaN             NaN                NaN                  NaN\\n164                                                                                                                                     NaN                                                                                                                    # of ODME_iterations=                                                   50                          NaN                                 NaN                                      NaN                  NaN                  NaN                 NaN             NaN                NaN                  NaN\\n165  [PROCESS INFO] Step 7: perform sensitivity analysis if dynamic_traffic_management.csv is provided for dtm_type = lane_closure or dms.                                                                                                                                       NaN                                                  NaN                          NaN                                 NaN                                      NaN                  NaN                  NaN                 NaN             NaN                NaN                  NaN\\n166                   [PROCESS INFO] Step 8: Executing Traffic Simulation. Proceeds only if simulation_output is set to 1 in settings.csv.                                                                                                                                       NaN                                                  NaN                          NaN                                 NaN                                      NaN                  NaN                  NaN                 NaN             NaN                NaN                  NaN\\n167                                                                                            [PROCESS INFO] Step 9: Collecting statistics                                                                                                 Generating Zonal Hierarchy Mapping (e.g.    Zone to Super-Zone and Zone to District Mapping)                           NaN                                 NaN                                      NaN                  NaN                  NaN                 NaN             NaN                NaN                  NaN\\n168                                                                                                                Output Link Performance:                                                                                                                                      NaN                                                  NaN                          NaN                                 NaN                                      NaN                  NaN                  NaN                 NaN             NaN                NaN                  NaN\\n169                                                                                                                                     NaN                                                                                                                               ref_link_v                                                  NaN                          NaN                                 NaN                                      NaN                  NaN                  NaN                 NaN             NaN                NaN                  NaN'"
      ]
     },
     "metadata": {},
     "output_type": "display_data"
    }
   ],
   "source": [
    "display(data.to_string()) # You can take this approach if you want to see the full table, but it's rather unintuitive"
   ]
  }
 ],
 "metadata": {
  "kernelspec": {
   "display_name": "Python 3 (ipykernel)",
   "language": "python",
   "name": "python3"
  },
  "language_info": {
   "codemirror_mode": {
    "name": "ipython",
    "version": 3
   },
   "file_extension": ".py",
   "mimetype": "text/x-python",
   "name": "python",
   "nbconvert_exporter": "python",
   "pygments_lexer": "ipython3",
   "version": "3.8.8"
  }
 },
 "nbformat": 4,
 "nbformat_minor": 5
}
