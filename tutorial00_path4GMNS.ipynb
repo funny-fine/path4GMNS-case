{
 "cells": [
  {
   "cell_type": "markdown",
   "id": "d7fcffbe",
   "metadata": {},
   "source": [
    "# Tutorial 0: Path4GMNS\n",
    "\n",
    "\n",
    "This tutorial provides a brief introduction to the Path4GMNS, highlighting the DTALite functional modules within it.<br>\n",
    "Whether you want to use Path4GMNS seriously or want to contribute to the project, it may be helpful to understand its functional structure and data examples. The tutorial will show you the macro structure of Path4GMNS and the basics of how to install and use it, with specific data examples in the nine subsequent documents. Before you learn about the data cases we provide and use Path4GMNS, it is recommended that you go through the contents of this tutorial to get an initial understanding of Path4GMNS and complete its installation and configuration."
   ]
  },
  {
   "cell_type": "markdown",
   "id": "c14065db",
   "metadata": {},
   "source": [
    "## 1. High-level of Path4GMNS\n",
    "\n",
    "<img src=\"img/architecture.png\" alt=\"Flow Venn Diagram\" width=\"50%\"/>\n",
    "\n",
    "Path4GMNS is an open-source, cross-platform, lightweight, and fast Python path engine for networks encoded in [GMNS](https://github.com/zephyr-data-specs/GMNS). Besides finding static shortest paths for simple analyses, its main functionality is to provide an efficient and flexible framework for column-based (path-based) modeling and applications in transportation (e.g., activity-based demand modeling). Path4GMNS supports, in short,\n",
    "\n",
    "1. finding (static) shortest path between two nodes,\n",
    "2. performing path-based User-Equilibrium (UE) traffic assignment,\n",
    "3. conducting dynamic traffic assignment (DTA) after UE.\n",
    "4. evaluating multimodal accessibility and equity,\n",
    "5. synthesizing zones and Origin-Destination (OD) demand for a given network.\n",
    "\n",
    "Path4GMNS also serves as an API to the C++-based [DTALite](https://github.com/jdlph/DTALite) to conduct various multimodal traffic assignments including,\n",
    "   * Link-based UE,\n",
    "   * Path-based UE,\n",
    "   * UE + DTA,\n",
    "   * OD Matrix Estimation (ODME)."
   ]
  },
  {
   "cell_type": "markdown",
   "id": "5f1f2dde",
   "metadata": {},
   "source": [
    "## 2. Installation and Configuration\n",
    "The Python modules are written in Python 3.x, which is the minimum requirement to explore the most of Path4GMNS. \n",
    "### i. How to install path4gmns\n",
    "    pip install path4gmns\n",
    "\n",
    "### ii. How to update path4gmns\n",
    "    pip install path4gmns --upgrade\n",
    "\n",
    "### iii. Please use the latest version (0.9.7) for your projects.\n",
    "v0.9.7 serves as a hotfix over v0.9.5 and v0.9.6 on emitting DTALite log and synthesizing zone and demand. Please **update to or install the latest version** and **discard all old versions**.\n",
    "\n",
    "> **[WARNING]** <br>\n",
    "> Any versions prior to v0.9.4 will generate INCORRECT simulation results.\n",
    "> Calling DTALite and [synthesizing zones and OD demand are not functioning for v0.9.5 and v0.9.6](https://github.com/jdlph/Path4GMNS/issues/41)."
   ]
  },
  {
   "cell_type": "code",
   "execution_count": 2,
   "id": "c27f5ac3",
   "metadata": {},
   "outputs": [
    {
     "name": "stdout",
     "output_type": "stream",
     "text": [
      "path4gmns, version 0.9.7\n"
     ]
    }
   ],
   "source": [
    "import path4gmns as pg"
   ]
  },
  {
   "cell_type": "markdown",
   "id": "c3448c87",
   "metadata": {},
   "source": [
    "### Python interface to call the latest DTALite:\n",
    "    path4gmns.dtaapi.run_DTALite()\n",
    "> Before using this function, please make sure that you have placed the node.csv, link.csv and demand.csv files required by DTAlite in the sibling folder. Other data files can be generated with default settings by the programme, or configured by yourself. For more details about the data preparation, please check [the user-guide doc of DTALite](https://github.com/asu-trans-ai-lab/DTALite/tree/main/docs/user_guide)."
   ]
  },
  {
   "cell_type": "markdown",
   "id": "591d5ce6",
   "metadata": {},
   "source": [
    "This version of DTALite includes all-new Logbook, enhanced scenario handling, improved I/O functionality, and so on.\n",
    "Its source code can be found at https://github.com/asu-trans-ai-lab/DTALite."
   ]
  },
  {
   "cell_type": "markdown",
   "id": "4b65db1e",
   "metadata": {},
   "source": [
    "This series of tutorials provides you with 9 referenceable data examples, all tested and rendered using the DTALite API of path4GMNS. All data used in subsequent tutorials(tutorial01--tutorial09) can be found at: https://github.com/asu-trans-ai-lab/DTALite/tree/main/data"
   ]
  },
  {
   "cell_type": "code",
   "execution_count": null,
   "id": "1ec275d7",
   "metadata": {},
   "outputs": [],
   "source": []
  }
 ],
 "metadata": {
  "kernelspec": {
   "display_name": "Python 3 (ipykernel)",
   "language": "python",
   "name": "python3"
  },
  "language_info": {
   "codemirror_mode": {
    "name": "ipython",
    "version": 3
   },
   "file_extension": ".py",
   "mimetype": "text/x-python",
   "name": "python",
   "nbconvert_exporter": "python",
   "pygments_lexer": "ipython3",
   "version": "3.8.8"
  }
 },
 "nbformat": 4,
 "nbformat_minor": 5
}
